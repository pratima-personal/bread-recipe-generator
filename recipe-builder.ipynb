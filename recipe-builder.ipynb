{
 "cells": [
  {
   "cell_type": "code",
   "execution_count": 167,
   "metadata": {},
   "outputs": [],
   "source": [
    "import numpy as np\n",
    "import pandas as pd\n",
    "import datetime\n",
    "import plotly.express as px\n",
    "import string\n",
    "from sklearn.feature_extraction.text import CountVectorizer, TfidfVectorizer\n",
    "from sklearn.decomposition import NMF\n",
    "from sklearn.decomposition import LatentDirichletAllocation as LDA\n",
    "from nltk.corpus import stopwords\n",
    "import markovify\n",
    "import pickle\n",
    "import tensorflow as tf\n",
    "from keras.models import load_model\n",
    "from keras.preprocessing.text import Tokenizer\n",
    "from keras.preprocessing.sequence import pad_sequences\n",
    "from keras.utils import to_categorical\n",
    "from keras.models import Sequential\n",
    "from keras.layers import Dense\n",
    "from keras.layers import LSTM\n",
    "from keras.layers import Embedding\n",
    "from keras.callbacks import ModelCheckpoint"
   ]
  },
  {
   "cell_type": "code",
   "execution_count": 2,
   "metadata": {},
   "outputs": [],
   "source": [
    "def wordListToFreqDict(wordlist):\n",
    "    wordfreq = [wordlist.count(p) for p in wordlist]\n",
    "    return dict(list(zip(wordlist,wordfreq)))"
   ]
  },
  {
   "cell_type": "code",
   "execution_count": 3,
   "metadata": {},
   "outputs": [],
   "source": [
    "# sort dictionary according to descending frequency of words in recipe and return top N results\n",
    "def sortedDict(worddict, N):\n",
    "    newdict = {k: v for k, v in sorted(worddict.items(), key=lambda item: item[1], reverse=True)}\n",
    "    return dict(list(newdict.items())[:N])"
   ]
  },
  {
   "cell_type": "code",
   "execution_count": 111,
   "metadata": {},
   "outputs": [],
   "source": [
    "def tokenize(text):\n",
    "    punctuation_map = str.maketrans('', '', string.punctuation)\n",
    "    stopwords_list = stopwords.words('english')\n",
    "    stopwords_list.remove('i')\n",
    "    stopwords_list.remove('me')\n",
    "    stopwords_list.append('com')\n",
    "    stopwords_set = set(stopwords_list)\n",
    "    text = text.split()\n",
    "    text = [word for word in text if not ('http' in word or 'www' in word)]\n",
    "    text = [word.translate(punctuation_map).lower() for word in text]\n",
    "    tokenized_words = [word for word in text if word not in stopwords_set]\n",
    "    return tokenized_words"
   ]
  },
  {
   "cell_type": "code",
   "execution_count": 24,
   "metadata": {},
   "outputs": [],
   "source": [
    "def get_sequence(tokens, length=21):\n",
    "    sequences = []\n",
    "    for i in range(length, len(tokens)+1):\n",
    "        seq = tokens[i-length:i]\n",
    "        line = ' '.join(seq)\n",
    "        sequences.append(line)\n",
    "    return sequences"
   ]
  },
  {
   "cell_type": "code",
   "execution_count": 71,
   "metadata": {},
   "outputs": [],
   "source": [
    "# generate predictions from model\n",
    "def generate_sentence(model, tokenizer, sequence_length, starting_text, num_predicted_words):\n",
    "    prediction = [starting_text]\n",
    "    for _ in range(num_predicted_words):\n",
    "        encoded_text = tokenizer.texts_to_sequences([starting_text])[0]\n",
    "        encoded_text = pad_sequences([encoded_text], \n",
    "                                     maxlen=sequence_length, \n",
    "                                     truncating='pre')\n",
    "        preds = model.predict_classes(encoded_text, verbose=0)\n",
    "        out_word = ''\n",
    "        for word, idx in tokenizer.word_index.items():\n",
    "            if idx == preds:\n",
    "                out_word = word\n",
    "                break\n",
    "        starting_text += ' ' + out_word\n",
    "        prediction.append(out_word)\n",
    "    return ' '.join(prediction)"
   ]
  },
  {
   "cell_type": "code",
   "execution_count": 155,
   "metadata": {},
   "outputs": [],
   "source": [
    "data = []\n",
    "with open('recipeInfo.txt', 'r') as f:\n",
    "    line = f.readline()\n",
    "    while line:\n",
    "        data.append(line[:-2])\n",
    "        line = f.readline()\n",
    "f.close()\n",
    "\n",
    "df_recipe = pd.DataFrame(data, columns=['Recipe'])\n",
    "df_recipe['Length'] = df_recipe['Recipe'].apply(lambda x: len(x.split()))\n",
    "df_recipe['Unique Words'] = df_recipe['Recipe'].apply(lambda x: len(set(x.split())))\n",
    "df_recipe['Tokenized Words'] = df_recipe['Recipe'].apply(tokenize)"
   ]
  },
  {
   "cell_type": "code",
   "execution_count": 162,
   "metadata": {},
   "outputs": [
    {
     "data": {
      "text/html": [
       "<div>\n",
       "<style scoped>\n",
       "    .dataframe tbody tr th:only-of-type {\n",
       "        vertical-align: middle;\n",
       "    }\n",
       "\n",
       "    .dataframe tbody tr th {\n",
       "        vertical-align: top;\n",
       "    }\n",
       "\n",
       "    .dataframe thead th {\n",
       "        text-align: right;\n",
       "    }\n",
       "</style>\n",
       "<table border=\"1\" class=\"dataframe\">\n",
       "  <thead>\n",
       "    <tr style=\"text-align: right;\">\n",
       "      <th></th>\n",
       "      <th>Recipe</th>\n",
       "      <th>Length</th>\n",
       "      <th>Unique Words</th>\n",
       "      <th>Tokenized Recipe</th>\n",
       "      <th>Cleaned Recipe</th>\n",
       "    </tr>\n",
       "  </thead>\n",
       "  <tbody>\n",
       "    <tr>\n",
       "      <td>0</td>\n",
       "      <td>I was intrigued with this recipe from foolishp...</td>\n",
       "      <td>364</td>\n",
       "      <td>231</td>\n",
       "      <td>[i, intrigued, recipe, foolishpoolish, also, p...</td>\n",
       "      <td>i intrigued recipe foolishpoolish also poking ...</td>\n",
       "    </tr>\n",
       "    <tr>\n",
       "      <td>1</td>\n",
       "      <td>Here is the link to my recipe, as requested by...</td>\n",
       "      <td>345</td>\n",
       "      <td>206</td>\n",
       "      <td>[link, recipe, requested, bread1965, starter, ...</td>\n",
       "      <td>link recipe requested bread1965 starter refres...</td>\n",
       "    </tr>\n",
       "    <tr>\n",
       "      <td>2</td>\n",
       "      <td>My first bake of 2018. I'm glad I squeezed in ...</td>\n",
       "      <td>889</td>\n",
       "      <td>415</td>\n",
       "      <td>[first, bake, 2018, im, glad, i, squeezed, bak...</td>\n",
       "      <td>first bake 2018 im glad i squeezed bake despit...</td>\n",
       "    </tr>\n",
       "    <tr>\n",
       "      <td>3</td>\n",
       "      <td>Oh my....that's about all I can say. The blue ...</td>\n",
       "      <td>297</td>\n",
       "      <td>189</td>\n",
       "      <td>[oh, mythats, i, say, blue, granite, roaster, ...</td>\n",
       "      <td>oh mythats i say blue granite roaster definite...</td>\n",
       "    </tr>\n",
       "    <tr>\n",
       "      <td>4</td>\n",
       "      <td>Love this bread but I have a few questions for...</td>\n",
       "      <td>80</td>\n",
       "      <td>57</td>\n",
       "      <td>[love, bread, i, questions, anyone, regularly,...</td>\n",
       "      <td>love bread i questions anyone regularly bakes ...</td>\n",
       "    </tr>\n",
       "    <tr>\n",
       "      <td>5</td>\n",
       "      <td>how often can a person make and eat pizza befo...</td>\n",
       "      <td>202</td>\n",
       "      <td>133</td>\n",
       "      <td>[often, person, make, eat, pizza, get, tired, ...</td>\n",
       "      <td>often person make eat pizza get tired  apparen...</td>\n",
       "    </tr>\n",
       "    <tr>\n",
       "      <td>6</td>\n",
       "      <td>A fabulous and incredibly informative set of e...</td>\n",
       "      <td>164</td>\n",
       "      <td>128</td>\n",
       "      <td>[fabulous, incredibly, informative, set, email...</td>\n",
       "      <td>fabulous incredibly informative set email exch...</td>\n",
       "    </tr>\n",
       "    <tr>\n",
       "      <td>7</td>\n",
       "      <td>It looks and smells grand and I will get to cu...</td>\n",
       "      <td>33</td>\n",
       "      <td>28</td>\n",
       "      <td>[looks, smells, grand, i, get, cut, open, peek...</td>\n",
       "      <td>looks smells grand i get cut open peek crumb l...</td>\n",
       "    </tr>\n",
       "    <tr>\n",
       "      <td>8</td>\n",
       "      <td>the banana rye date and pecan bread made it to...</td>\n",
       "      <td>30</td>\n",
       "      <td>29</td>\n",
       "      <td>[banana, rye, date, pecan, bread, made, iron, ...</td>\n",
       "      <td>banana rye date pecan bread made iron skillet ...</td>\n",
       "    </tr>\n",
       "    <tr>\n",
       "      <td>9</td>\n",
       "      <td>The dough is the Tartine Basic Country Bread. ...</td>\n",
       "      <td>126</td>\n",
       "      <td>92</td>\n",
       "      <td>[dough, tartine, basic, country, bread, formul...</td>\n",
       "      <td>dough tartine basic country bread formula pole...</td>\n",
       "    </tr>\n",
       "  </tbody>\n",
       "</table>\n",
       "</div>"
      ],
      "text/plain": [
       "                                              Recipe  Length  Unique Words  \\\n",
       "0  I was intrigued with this recipe from foolishp...     364           231   \n",
       "1  Here is the link to my recipe, as requested by...     345           206   \n",
       "2  My first bake of 2018. I'm glad I squeezed in ...     889           415   \n",
       "3  Oh my....that's about all I can say. The blue ...     297           189   \n",
       "4  Love this bread but I have a few questions for...      80            57   \n",
       "5  how often can a person make and eat pizza befo...     202           133   \n",
       "6  A fabulous and incredibly informative set of e...     164           128   \n",
       "7  It looks and smells grand and I will get to cu...      33            28   \n",
       "8  the banana rye date and pecan bread made it to...      30            29   \n",
       "9  The dough is the Tartine Basic Country Bread. ...     126            92   \n",
       "\n",
       "                                    Tokenized Recipe  \\\n",
       "0  [i, intrigued, recipe, foolishpoolish, also, p...   \n",
       "1  [link, recipe, requested, bread1965, starter, ...   \n",
       "2  [first, bake, 2018, im, glad, i, squeezed, bak...   \n",
       "3  [oh, mythats, i, say, blue, granite, roaster, ...   \n",
       "4  [love, bread, i, questions, anyone, regularly,...   \n",
       "5  [often, person, make, eat, pizza, get, tired, ...   \n",
       "6  [fabulous, incredibly, informative, set, email...   \n",
       "7  [looks, smells, grand, i, get, cut, open, peek...   \n",
       "8  [banana, rye, date, pecan, bread, made, iron, ...   \n",
       "9  [dough, tartine, basic, country, bread, formul...   \n",
       "\n",
       "                                      Cleaned Recipe  \n",
       "0  i intrigued recipe foolishpoolish also poking ...  \n",
       "1  link recipe requested bread1965 starter refres...  \n",
       "2  first bake 2018 im glad i squeezed bake despit...  \n",
       "3  oh mythats i say blue granite roaster definite...  \n",
       "4  love bread i questions anyone regularly bakes ...  \n",
       "5  often person make eat pizza get tired  apparen...  \n",
       "6  fabulous incredibly informative set email exch...  \n",
       "7  looks smells grand i get cut open peek crumb l...  \n",
       "8  banana rye date pecan bread made iron skillet ...  \n",
       "9  dough tartine basic country bread formula pole...  "
      ]
     },
     "execution_count": 162,
     "metadata": {},
     "output_type": "execute_result"
    }
   ],
   "source": [
    "df_recipe = pd.read_csv('recipeInfo.csv')\n",
    "df_recipe = df_recipe.loc[:, ~df_recipe.columns.str.contains('^Unnamed')]\n",
    "df_recipe['Tokenized Recipe'] = df_recipe['Recipe'].apply(tokenize)\n",
    "df_recipe['Cleaned Recipe'] = df_recipe['Tokenized Recipe'].str.join(' ')\n",
    "df_recipe.head(10)"
   ]
  },
  {
   "cell_type": "code",
   "execution_count": 158,
   "metadata": {},
   "outputs": [
    {
     "data": {
      "image/png": "[encoded data removed]",
      "text/plain": [
       "<PIL.Image.Image image mode=RGB size=400x200 at 0x7F8EB9D1D510>"
      ]
     },
     "execution_count": 158,
     "metadata": {},
     "output_type": "execute_result"
    }
   ],
   "source": [
    "# import the wordcloud library\n",
    "from wordcloud import WordCloud\n",
    "# join the different processed titles together.\n",
    "long_string = ','.join(list(df_recipe['Recipe'].values))\n",
    "# create a WordCloud object\n",
    "wordcloud = WordCloud(background_color=\"white\", max_words=100, contour_width=3, contour_color='steelblue')\n",
    "# generate a word cloud\n",
    "wordcloud.generate(long_string)\n",
    "# visualize the word cloud\n",
    "wordcloud.to_image()"
   ]
  },
  {
   "cell_type": "code",
   "execution_count": 90,
   "metadata": {},
   "outputs": [],
   "source": [
    "# generate a histogram with word frequency counts, but without stop words\n",
    "\n",
    "recipe_split = [string.split(' ') for string in df_recipe['Recipe'].tolist()]\n",
    "word_list = [word.translate(str.maketrans('', '', string.punctuation)).lower() \n",
    "             for recipe in recipe_split for word in recipe]\n",
    "word_list = [word for word in word_list if word not in set(stopwords.words('english'))]\n",
    "word_dict = sortedDict( wordListToFreqDict(word_list), 21 )"
   ]
  },
  {
   "cell_type": "code",
   "execution_count": 97,
   "metadata": {},
   "outputs": [
    {
     "data": {
      "application/vnd.plotly.v1+json": {
       "config": {
        "plotlyServerURL": "https://plot.ly"
       },
       "data": [
        {
         "alignmentgroup": "True",
         "hovertemplate": "Word=%{x}<br>Frequency=%{y}<extra></extra>",
         "legendgroup": "",
         "marker": {
          "color": "#636efa"
         },
         "name": "",
         "offsetgroup": "",
         "orientation": "v",
         "showlegend": false,
         "textposition": "auto",
         "type": "bar",
         "x": [
          "dough",
          "flour",
          "g",
          "bread",
          "water",
          "minutes",
          "hours",
          "oven",
          "bake",
          "one",
          "baking",
          "let",
          "levain",
          "time",
          "loaf",
          "starter",
          "2",
          "1",
          "salt",
          "mix"
         ],
         "xaxis": "x",
         "y": [
          3359,
          2567,
          2355,
          2162,
          1871,
          1566,
          1291,
          1280,
          1191,
          1178,
          1080,
          1069,
          1065,
          982,
          941,
          920,
          878,
          867,
          837,
          824
         ],
         "yaxis": "y"
        }
       ],
       "layout": {
        "barmode": "relative",
        "legend": {
         "tracegroupgap": 0
        },
        "margin": {
         "t": 60
        },
        "template": {
         "data": {
          "bar": [
           {
            "error_x": {
             "color": "#2a3f5f"
            },
            "error_y": {
             "color": "#2a3f5f"
            },
            "marker": {
             "line": {
              "color": "#E5ECF6",
              "width": 0.5
             }
            },
            "type": "bar"
           }
          ],
          "barpolar": [
           {
            "marker": {
             "line": {
              "color": "#E5ECF6",
              "width": 0.5
             }
            },
            "type": "barpolar"
           }
          ],
          "carpet": [
           {
            "aaxis": {
             "endlinecolor": "#2a3f5f",
             "gridcolor": "white",
             "linecolor": "white",
             "minorgridcolor": "white",
             "startlinecolor": "#2a3f5f"
            },
            "baxis": {
             "endlinecolor": "#2a3f5f",
             "gridcolor": "white",
             "linecolor": "white",
             "minorgridcolor": "white",
             "startlinecolor": "#2a3f5f"
            },
            "type": "carpet"
           }
          ],
          "choropleth": [
           {
            "colorbar": {
             "outlinewidth": 0,
             "ticks": ""
            },
            "type": "choropleth"
           }
          ],
          "contour": [
           {
            "colorbar": {
             "outlinewidth": 0,
             "ticks": ""
            },
            "colorscale": [
             [
              0,
              "#0d0887"
             ],
             [
              0.1111111111111111,
              "#46039f"
             ],
             [
              0.2222222222222222,
              "#7201a8"
             ],
             [
              0.3333333333333333,
              "#9c179e"
             ],
             [
              0.4444444444444444,
              "#bd3786"
             ],
             [
              0.5555555555555556,
              "#d8576b"
             ],
             [
              0.6666666666666666,
              "#ed7953"
             ],
             [
              0.7777777777777778,
              "#fb9f3a"
             ],
             [
              0.8888888888888888,
              "#fdca26"
             ],
             [
              1,
              "#f0f921"
             ]
            ],
            "type": "contour"
           }
          ],
          "contourcarpet": [
           {
            "colorbar": {
             "outlinewidth": 0,
             "ticks": ""
            },
            "type": "contourcarpet"
           }
          ],
          "heatmap": [
           {
            "colorbar": {
             "outlinewidth": 0,
             "ticks": ""
            },
            "colorscale": [
             [
              0,
              "#0d0887"
             ],
             [
              0.1111111111111111,
              "#46039f"
             ],
             [
              0.2222222222222222,
              "#7201a8"
             ],
             [
              0.3333333333333333,
              "#9c179e"
             ],
             [
              0.4444444444444444,
              "#bd3786"
             ],
             [
              0.5555555555555556,
              "#d8576b"
             ],
             [
              0.6666666666666666,
              "#ed7953"
             ],
             [
              0.7777777777777778,
              "#fb9f3a"
             ],
             [
              0.8888888888888888,
              "#fdca26"
             ],
             [
              1,
              "#f0f921"
             ]
            ],
            "type": "heatmap"
           }
          ],
          "heatmapgl": [
           {
            "colorbar": {
             "outlinewidth": 0,
             "ticks": ""
            },
            "colorscale": [
             [
              0,
              "#0d0887"
             ],
             [
              0.1111111111111111,
              "#46039f"
             ],
             [
              0.2222222222222222,
              "#7201a8"
             ],
             [
              0.3333333333333333,
              "#9c179e"
             ],
             [
              0.4444444444444444,
              "#bd3786"
             ],
             [
              0.5555555555555556,
              "#d8576b"
             ],
             [
              0.6666666666666666,
              "#ed7953"
             ],
             [
              0.7777777777777778,
              "#fb9f3a"
             ],
             [
              0.8888888888888888,
              "#fdca26"
             ],
             [
              1,
              "#f0f921"
             ]
            ],
            "type": "heatmapgl"
           }
          ],
          "histogram": [
           {
            "marker": {
             "colorbar": {
              "outlinewidth": 0,
              "ticks": ""
             }
            },
            "type": "histogram"
           }
          ],
          "histogram2d": [
           {
            "colorbar": {
             "outlinewidth": 0,
             "ticks": ""
            },
            "colorscale": [
             [
              0,
              "#0d0887"
             ],
             [
              0.1111111111111111,
              "#46039f"
             ],
             [
              0.2222222222222222,
              "#7201a8"
             ],
             [
              0.3333333333333333,
              "#9c179e"
             ],
             [
              0.4444444444444444,
              "#bd3786"
             ],
             [
              0.5555555555555556,
              "#d8576b"
             ],
             [
              0.6666666666666666,
              "#ed7953"
             ],
             [
              0.7777777777777778,
              "#fb9f3a"
             ],
             [
              0.8888888888888888,
              "#fdca26"
             ],
             [
              1,
              "#f0f921"
             ]
            ],
            "type": "histogram2d"
           }
          ],
          "histogram2dcontour": [
           {
            "colorbar": {
             "outlinewidth": 0,
             "ticks": ""
            },
            "colorscale": [
             [
              0,
              "#0d0887"
             ],
             [
              0.1111111111111111,
              "#46039f"
             ],
             [
              0.2222222222222222,
              "#7201a8"
             ],
             [
              0.3333333333333333,
              "#9c179e"
             ],
             [
              0.4444444444444444,
              "#bd3786"
             ],
             [
              0.5555555555555556,
              "#d8576b"
             ],
             [
              0.6666666666666666,
              "#ed7953"
             ],
             [
              0.7777777777777778,
              "#fb9f3a"
             ],
             [
              0.8888888888888888,
              "#fdca26"
             ],
             [
              1,
              "#f0f921"
             ]
            ],
            "type": "histogram2dcontour"
           }
          ],
          "mesh3d": [
           {
            "colorbar": {
             "outlinewidth": 0,
             "ticks": ""
            },
            "type": "mesh3d"
           }
          ],
          "parcoords": [
           {
            "line": {
             "colorbar": {
              "outlinewidth": 0,
              "ticks": ""
             }
            },
            "type": "parcoords"
           }
          ],
          "pie": [
           {
            "automargin": true,
            "type": "pie"
           }
          ],
          "scatter": [
           {
            "marker": {
             "colorbar": {
              "outlinewidth": 0,
              "ticks": ""
             }
            },
            "type": "scatter"
           }
          ],
          "scatter3d": [
           {
            "line": {
             "colorbar": {
              "outlinewidth": 0,
              "ticks": ""
             }
            },
            "marker": {
             "colorbar": {
              "outlinewidth": 0,
              "ticks": ""
             }
            },
            "type": "scatter3d"
           }
          ],
          "scattercarpet": [
           {
            "marker": {
             "colorbar": {
              "outlinewidth": 0,
              "ticks": ""
             }
            },
            "type": "scattercarpet"
           }
          ],
          "scattergeo": [
           {
            "marker": {
             "colorbar": {
              "outlinewidth": 0,
              "ticks": ""
             }
            },
            "type": "scattergeo"
           }
          ],
          "scattergl": [
           {
            "marker": {
             "colorbar": {
              "outlinewidth": 0,
              "ticks": ""
             }
            },
            "type": "scattergl"
           }
          ],
          "scattermapbox": [
           {
            "marker": {
             "colorbar": {
              "outlinewidth": 0,
              "ticks": ""
             }
            },
            "type": "scattermapbox"
           }
          ],
          "scatterpolar": [
           {
            "marker": {
             "colorbar": {
              "outlinewidth": 0,
              "ticks": ""
             }
            },
            "type": "scatterpolar"
           }
          ],
          "scatterpolargl": [
           {
            "marker": {
             "colorbar": {
              "outlinewidth": 0,
              "ticks": ""
             }
            },
            "type": "scatterpolargl"
           }
          ],
          "scatterternary": [
           {
            "marker": {
             "colorbar": {
              "outlinewidth": 0,
              "ticks": ""
             }
            },
            "type": "scatterternary"
           }
          ],
          "surface": [
           {
            "colorbar": {
             "outlinewidth": 0,
             "ticks": ""
            },
            "colorscale": [
             [
              0,
              "#0d0887"
             ],
             [
              0.1111111111111111,
              "#46039f"
             ],
             [
              0.2222222222222222,
              "#7201a8"
             ],
             [
              0.3333333333333333,
              "#9c179e"
             ],
             [
              0.4444444444444444,
              "#bd3786"
             ],
             [
              0.5555555555555556,
              "#d8576b"
             ],
             [
              0.6666666666666666,
              "#ed7953"
             ],
             [
              0.7777777777777778,
              "#fb9f3a"
             ],
             [
              0.8888888888888888,
              "#fdca26"
             ],
             [
              1,
              "#f0f921"
             ]
            ],
            "type": "surface"
           }
          ],
          "table": [
           {
            "cells": {
             "fill": {
              "color": "#EBF0F8"
             },
             "line": {
              "color": "white"
             }
            },
            "header": {
             "fill": {
              "color": "#C8D4E3"
             },
             "line": {
              "color": "white"
             }
            },
            "type": "table"
           }
          ]
         },
         "layout": {
          "annotationdefaults": {
           "arrowcolor": "#2a3f5f",
           "arrowhead": 0,
           "arrowwidth": 1
          },
          "coloraxis": {
           "colorbar": {
            "outlinewidth": 0,
            "ticks": ""
           }
          },
          "colorscale": {
           "diverging": [
            [
             0,
             "#8e0152"
            ],
            [
             0.1,
             "#c51b7d"
            ],
            [
             0.2,
             "#de77ae"
            ],
            [
             0.3,
             "#f1b6da"
            ],
            [
             0.4,
             "#fde0ef"
            ],
            [
             0.5,
             "#f7f7f7"
            ],
            [
             0.6,
             "#e6f5d0"
            ],
            [
             0.7,
             "#b8e186"
            ],
            [
             0.8,
             "#7fbc41"
            ],
            [
             0.9,
             "#4d9221"
            ],
            [
             1,
             "#276419"
            ]
           ],
           "sequential": [
            [
             0,
             "#0d0887"
            ],
            [
             0.1111111111111111,
             "#46039f"
            ],
            [
             0.2222222222222222,
             "#7201a8"
            ],
            [
             0.3333333333333333,
             "#9c179e"
            ],
            [
             0.4444444444444444,
             "#bd3786"
            ],
            [
             0.5555555555555556,
             "#d8576b"
            ],
            [
             0.6666666666666666,
             "#ed7953"
            ],
            [
             0.7777777777777778,
             "#fb9f3a"
            ],
            [
             0.8888888888888888,
             "#fdca26"
            ],
            [
             1,
             "#f0f921"
            ]
           ],
           "sequentialminus": [
            [
             0,
             "#0d0887"
            ],
            [
             0.1111111111111111,
             "#46039f"
            ],
            [
             0.2222222222222222,
             "#7201a8"
            ],
            [
             0.3333333333333333,
             "#9c179e"
            ],
            [
             0.4444444444444444,
             "#bd3786"
            ],
            [
             0.5555555555555556,
             "#d8576b"
            ],
            [
             0.6666666666666666,
             "#ed7953"
            ],
            [
             0.7777777777777778,
             "#fb9f3a"
            ],
            [
             0.8888888888888888,
             "#fdca26"
            ],
            [
             1,
             "#f0f921"
            ]
           ]
          },
          "colorway": [
           "#636efa",
           "#EF553B",
           "#00cc96",
           "#ab63fa",
           "#FFA15A",
           "#19d3f3",
           "#FF6692",
           "#B6E880",
           "#FF97FF",
           "#FECB52"
          ],
          "font": {
           "color": "#2a3f5f"
          },
          "geo": {
           "bgcolor": "white",
           "lakecolor": "white",
           "landcolor": "#E5ECF6",
           "showlakes": true,
           "showland": true,
           "subunitcolor": "white"
          },
          "hoverlabel": {
           "align": "left"
          },
          "hovermode": "closest",
          "mapbox": {
           "style": "light"
          },
          "paper_bgcolor": "white",
          "plot_bgcolor": "#E5ECF6",
          "polar": {
           "angularaxis": {
            "gridcolor": "white",
            "linecolor": "white",
            "ticks": ""
           },
           "bgcolor": "#E5ECF6",
           "radialaxis": {
            "gridcolor": "white",
            "linecolor": "white",
            "ticks": ""
           }
          },
          "scene": {
           "xaxis": {
            "backgroundcolor": "#E5ECF6",
            "gridcolor": "white",
            "gridwidth": 2,
            "linecolor": "white",
            "showbackground": true,
            "ticks": "",
            "zerolinecolor": "white"
           },
           "yaxis": {
            "backgroundcolor": "#E5ECF6",
            "gridcolor": "white",
            "gridwidth": 2,
            "linecolor": "white",
            "showbackground": true,
            "ticks": "",
            "zerolinecolor": "white"
           },
           "zaxis": {
            "backgroundcolor": "#E5ECF6",
            "gridcolor": "white",
            "gridwidth": 2,
            "linecolor": "white",
            "showbackground": true,
            "ticks": "",
            "zerolinecolor": "white"
           }
          },
          "shapedefaults": {
           "line": {
            "color": "#2a3f5f"
           }
          },
          "ternary": {
           "aaxis": {
            "gridcolor": "white",
            "linecolor": "white",
            "ticks": ""
           },
           "baxis": {
            "gridcolor": "white",
            "linecolor": "white",
            "ticks": ""
           },
           "bgcolor": "#E5ECF6",
           "caxis": {
            "gridcolor": "white",
            "linecolor": "white",
            "ticks": ""
           }
          },
          "title": {
           "x": 0.05
          },
          "xaxis": {
           "automargin": true,
           "gridcolor": "white",
           "linecolor": "white",
           "ticks": "",
           "title": {
            "standoff": 15
           },
           "zerolinecolor": "white",
           "zerolinewidth": 2
          },
          "yaxis": {
           "automargin": true,
           "gridcolor": "white",
           "linecolor": "white",
           "ticks": "",
           "title": {
            "standoff": 15
           },
           "zerolinecolor": "white",
           "zerolinewidth": 2
          }
         }
        },
        "xaxis": {
         "anchor": "y",
         "domain": [
          0,
          1
         ],
         "title": {
          "text": "Word"
         }
        },
        "yaxis": {
         "anchor": "x",
         "domain": [
          0,
          1
         ],
         "title": {
          "text": "Frequency"
         }
        }
       }
      },
      "text/html": [
       "<div>\n",
       "        \n",
       "        \n",
       "            <div id=\"2a359b63-9b8f-4113-aee0-e4fc0fe94375\" class=\"plotly-graph-div\" style=\"height:525px; width:100%;\"></div>\n",
       "            <script type=\"text/javascript\">\n",
       "                require([\"plotly\"], function(Plotly) {\n",
       "                    window.PLOTLYENV=window.PLOTLYENV || {};\n",
       "                    \n",
       "                if (document.getElementById(\"2a359b63-9b8f-4113-aee0-e4fc0fe94375\")) {\n",
       "                    Plotly.newPlot(\n",
       "                        '2a359b63-9b8f-4113-aee0-e4fc0fe94375',\n",
       "                        [{\"alignmentgroup\": \"True\", \"hovertemplate\": \"Word=%{x}<br>Frequency=%{y}<extra></extra>\", \"legendgroup\": \"\", \"marker\": {\"color\": \"#636efa\"}, \"name\": \"\", \"offsetgroup\": \"\", \"orientation\": \"v\", \"showlegend\": false, \"textposition\": \"auto\", \"type\": \"bar\", \"x\": [\"dough\", \"flour\", \"g\", \"bread\", \"water\", \"minutes\", \"hours\", \"oven\", \"bake\", \"one\", \"baking\", \"let\", \"levain\", \"time\", \"loaf\", \"starter\", \"2\", \"1\", \"salt\", \"mix\"], \"xaxis\": \"x\", \"y\": [3359, 2567, 2355, 2162, 1871, 1566, 1291, 1280, 1191, 1178, 1080, 1069, 1065, 982, 941, 920, 878, 867, 837, 824], \"yaxis\": \"y\"}],\n",
       "                        {\"barmode\": \"relative\", \"legend\": {\"tracegroupgap\": 0}, \"margin\": {\"t\": 60}, \"template\": {\"data\": {\"bar\": [{\"error_x\": {\"color\": \"#2a3f5f\"}, \"error_y\": {\"color\": \"#2a3f5f\"}, \"marker\": {\"line\": {\"color\": \"#E5ECF6\", \"width\": 0.5}}, \"type\": \"bar\"}], \"barpolar\": [{\"marker\": {\"line\": {\"color\": \"#E5ECF6\", \"width\": 0.5}}, \"type\": \"barpolar\"}], \"carpet\": [{\"aaxis\": {\"endlinecolor\": \"#2a3f5f\", \"gridcolor\": \"white\", \"linecolor\": \"white\", \"minorgridcolor\": \"white\", \"startlinecolor\": \"#2a3f5f\"}, \"baxis\": {\"endlinecolor\": \"#2a3f5f\", \"gridcolor\": \"white\", \"linecolor\": \"white\", \"minorgridcolor\": \"white\", \"startlinecolor\": \"#2a3f5f\"}, \"type\": \"carpet\"}], \"choropleth\": [{\"colorbar\": {\"outlinewidth\": 0, \"ticks\": \"\"}, \"type\": \"choropleth\"}], \"contour\": [{\"colorbar\": {\"outlinewidth\": 0, \"ticks\": \"\"}, \"colorscale\": [[0.0, \"#0d0887\"], [0.1111111111111111, \"#46039f\"], [0.2222222222222222, \"#7201a8\"], [0.3333333333333333, \"#9c179e\"], [0.4444444444444444, \"#bd3786\"], [0.5555555555555556, \"#d8576b\"], [0.6666666666666666, \"#ed7953\"], [0.7777777777777778, \"#fb9f3a\"], [0.8888888888888888, \"#fdca26\"], [1.0, \"#f0f921\"]], \"type\": \"contour\"}], \"contourcarpet\": [{\"colorbar\": {\"outlinewidth\": 0, \"ticks\": \"\"}, \"type\": \"contourcarpet\"}], \"heatmap\": [{\"colorbar\": {\"outlinewidth\": 0, \"ticks\": \"\"}, \"colorscale\": [[0.0, \"#0d0887\"], [0.1111111111111111, \"#46039f\"], [0.2222222222222222, \"#7201a8\"], [0.3333333333333333, \"#9c179e\"], [0.4444444444444444, \"#bd3786\"], [0.5555555555555556, \"#d8576b\"], [0.6666666666666666, \"#ed7953\"], [0.7777777777777778, \"#fb9f3a\"], [0.8888888888888888, \"#fdca26\"], [1.0, \"#f0f921\"]], \"type\": \"heatmap\"}], \"heatmapgl\": [{\"colorbar\": {\"outlinewidth\": 0, \"ticks\": \"\"}, \"colorscale\": [[0.0, \"#0d0887\"], [0.1111111111111111, \"#46039f\"], [0.2222222222222222, \"#7201a8\"], [0.3333333333333333, \"#9c179e\"], [0.4444444444444444, \"#bd3786\"], [0.5555555555555556, \"#d8576b\"], [0.6666666666666666, \"#ed7953\"], [0.7777777777777778, \"#fb9f3a\"], [0.8888888888888888, \"#fdca26\"], [1.0, \"#f0f921\"]], \"type\": \"heatmapgl\"}], \"histogram\": [{\"marker\": {\"colorbar\": {\"outlinewidth\": 0, \"ticks\": \"\"}}, \"type\": \"histogram\"}], \"histogram2d\": [{\"colorbar\": {\"outlinewidth\": 0, \"ticks\": \"\"}, \"colorscale\": [[0.0, \"#0d0887\"], [0.1111111111111111, \"#46039f\"], [0.2222222222222222, \"#7201a8\"], [0.3333333333333333, \"#9c179e\"], [0.4444444444444444, \"#bd3786\"], [0.5555555555555556, \"#d8576b\"], [0.6666666666666666, \"#ed7953\"], [0.7777777777777778, \"#fb9f3a\"], [0.8888888888888888, \"#fdca26\"], [1.0, \"#f0f921\"]], \"type\": \"histogram2d\"}], \"histogram2dcontour\": [{\"colorbar\": {\"outlinewidth\": 0, \"ticks\": \"\"}, \"colorscale\": [[0.0, \"#0d0887\"], [0.1111111111111111, \"#46039f\"], [0.2222222222222222, \"#7201a8\"], [0.3333333333333333, \"#9c179e\"], [0.4444444444444444, \"#bd3786\"], [0.5555555555555556, \"#d8576b\"], [0.6666666666666666, \"#ed7953\"], [0.7777777777777778, \"#fb9f3a\"], [0.8888888888888888, \"#fdca26\"], [1.0, \"#f0f921\"]], \"type\": \"histogram2dcontour\"}], \"mesh3d\": [{\"colorbar\": {\"outlinewidth\": 0, \"ticks\": \"\"}, \"type\": \"mesh3d\"}], \"parcoords\": [{\"line\": {\"colorbar\": {\"outlinewidth\": 0, \"ticks\": \"\"}}, \"type\": \"parcoords\"}], \"pie\": [{\"automargin\": true, \"type\": \"pie\"}], \"scatter\": [{\"marker\": {\"colorbar\": {\"outlinewidth\": 0, \"ticks\": \"\"}}, \"type\": \"scatter\"}], \"scatter3d\": [{\"line\": {\"colorbar\": {\"outlinewidth\": 0, \"ticks\": \"\"}}, \"marker\": {\"colorbar\": {\"outlinewidth\": 0, \"ticks\": \"\"}}, \"type\": \"scatter3d\"}], \"scattercarpet\": [{\"marker\": {\"colorbar\": {\"outlinewidth\": 0, \"ticks\": \"\"}}, \"type\": \"scattercarpet\"}], \"scattergeo\": [{\"marker\": {\"colorbar\": {\"outlinewidth\": 0, \"ticks\": \"\"}}, \"type\": \"scattergeo\"}], \"scattergl\": [{\"marker\": {\"colorbar\": {\"outlinewidth\": 0, \"ticks\": \"\"}}, \"type\": \"scattergl\"}], \"scattermapbox\": [{\"marker\": {\"colorbar\": {\"outlinewidth\": 0, \"ticks\": \"\"}}, \"type\": \"scattermapbox\"}], \"scatterpolar\": [{\"marker\": {\"colorbar\": {\"outlinewidth\": 0, \"ticks\": \"\"}}, \"type\": \"scatterpolar\"}], \"scatterpolargl\": [{\"marker\": {\"colorbar\": {\"outlinewidth\": 0, \"ticks\": \"\"}}, \"type\": \"scatterpolargl\"}], \"scatterternary\": [{\"marker\": {\"colorbar\": {\"outlinewidth\": 0, \"ticks\": \"\"}}, \"type\": \"scatterternary\"}], \"surface\": [{\"colorbar\": {\"outlinewidth\": 0, \"ticks\": \"\"}, \"colorscale\": [[0.0, \"#0d0887\"], [0.1111111111111111, \"#46039f\"], [0.2222222222222222, \"#7201a8\"], [0.3333333333333333, \"#9c179e\"], [0.4444444444444444, \"#bd3786\"], [0.5555555555555556, \"#d8576b\"], [0.6666666666666666, \"#ed7953\"], [0.7777777777777778, \"#fb9f3a\"], [0.8888888888888888, \"#fdca26\"], [1.0, \"#f0f921\"]], \"type\": \"surface\"}], \"table\": [{\"cells\": {\"fill\": {\"color\": \"#EBF0F8\"}, \"line\": {\"color\": \"white\"}}, \"header\": {\"fill\": {\"color\": \"#C8D4E3\"}, \"line\": {\"color\": \"white\"}}, \"type\": \"table\"}]}, \"layout\": {\"annotationdefaults\": {\"arrowcolor\": \"#2a3f5f\", \"arrowhead\": 0, \"arrowwidth\": 1}, \"coloraxis\": {\"colorbar\": {\"outlinewidth\": 0, \"ticks\": \"\"}}, \"colorscale\": {\"diverging\": [[0, \"#8e0152\"], [0.1, \"#c51b7d\"], [0.2, \"#de77ae\"], [0.3, \"#f1b6da\"], [0.4, \"#fde0ef\"], [0.5, \"#f7f7f7\"], [0.6, \"#e6f5d0\"], [0.7, \"#b8e186\"], [0.8, \"#7fbc41\"], [0.9, \"#4d9221\"], [1, \"#276419\"]], \"sequential\": [[0.0, \"#0d0887\"], [0.1111111111111111, \"#46039f\"], [0.2222222222222222, \"#7201a8\"], [0.3333333333333333, \"#9c179e\"], [0.4444444444444444, \"#bd3786\"], [0.5555555555555556, \"#d8576b\"], [0.6666666666666666, \"#ed7953\"], [0.7777777777777778, \"#fb9f3a\"], [0.8888888888888888, \"#fdca26\"], [1.0, \"#f0f921\"]], \"sequentialminus\": [[0.0, \"#0d0887\"], [0.1111111111111111, \"#46039f\"], [0.2222222222222222, \"#7201a8\"], [0.3333333333333333, \"#9c179e\"], [0.4444444444444444, \"#bd3786\"], [0.5555555555555556, \"#d8576b\"], [0.6666666666666666, \"#ed7953\"], [0.7777777777777778, \"#fb9f3a\"], [0.8888888888888888, \"#fdca26\"], [1.0, \"#f0f921\"]]}, \"colorway\": [\"#636efa\", \"#EF553B\", \"#00cc96\", \"#ab63fa\", \"#FFA15A\", \"#19d3f3\", \"#FF6692\", \"#B6E880\", \"#FF97FF\", \"#FECB52\"], \"font\": {\"color\": \"#2a3f5f\"}, \"geo\": {\"bgcolor\": \"white\", \"lakecolor\": \"white\", \"landcolor\": \"#E5ECF6\", \"showlakes\": true, \"showland\": true, \"subunitcolor\": \"white\"}, \"hoverlabel\": {\"align\": \"left\"}, \"hovermode\": \"closest\", \"mapbox\": {\"style\": \"light\"}, \"paper_bgcolor\": \"white\", \"plot_bgcolor\": \"#E5ECF6\", \"polar\": {\"angularaxis\": {\"gridcolor\": \"white\", \"linecolor\": \"white\", \"ticks\": \"\"}, \"bgcolor\": \"#E5ECF6\", \"radialaxis\": {\"gridcolor\": \"white\", \"linecolor\": \"white\", \"ticks\": \"\"}}, \"scene\": {\"xaxis\": {\"backgroundcolor\": \"#E5ECF6\", \"gridcolor\": \"white\", \"gridwidth\": 2, \"linecolor\": \"white\", \"showbackground\": true, \"ticks\": \"\", \"zerolinecolor\": \"white\"}, \"yaxis\": {\"backgroundcolor\": \"#E5ECF6\", \"gridcolor\": \"white\", \"gridwidth\": 2, \"linecolor\": \"white\", \"showbackground\": true, \"ticks\": \"\", \"zerolinecolor\": \"white\"}, \"zaxis\": {\"backgroundcolor\": \"#E5ECF6\", \"gridcolor\": \"white\", \"gridwidth\": 2, \"linecolor\": \"white\", \"showbackground\": true, \"ticks\": \"\", \"zerolinecolor\": \"white\"}}, \"shapedefaults\": {\"line\": {\"color\": \"#2a3f5f\"}}, \"ternary\": {\"aaxis\": {\"gridcolor\": \"white\", \"linecolor\": \"white\", \"ticks\": \"\"}, \"baxis\": {\"gridcolor\": \"white\", \"linecolor\": \"white\", \"ticks\": \"\"}, \"bgcolor\": \"#E5ECF6\", \"caxis\": {\"gridcolor\": \"white\", \"linecolor\": \"white\", \"ticks\": \"\"}}, \"title\": {\"x\": 0.05}, \"xaxis\": {\"automargin\": true, \"gridcolor\": \"white\", \"linecolor\": \"white\", \"ticks\": \"\", \"title\": {\"standoff\": 15}, \"zerolinecolor\": \"white\", \"zerolinewidth\": 2}, \"yaxis\": {\"automargin\": true, \"gridcolor\": \"white\", \"linecolor\": \"white\", \"ticks\": \"\", \"title\": {\"standoff\": 15}, \"zerolinecolor\": \"white\", \"zerolinewidth\": 2}}}, \"xaxis\": {\"anchor\": \"y\", \"domain\": [0.0, 1.0], \"title\": {\"text\": \"Word\"}}, \"yaxis\": {\"anchor\": \"x\", \"domain\": [0.0, 1.0], \"title\": {\"text\": \"Frequency\"}}},\n",
       "                        {\"responsive\": true}\n",
       "                    ).then(function(){\n",
       "                            \n",
       "var gd = document.getElementById('2a359b63-9b8f-4113-aee0-e4fc0fe94375');\n",
       "var x = new MutationObserver(function (mutations, observer) {{\n",
       "        var display = window.getComputedStyle(gd).display;\n",
       "        if (!display || display === 'none') {{\n",
       "            console.log([gd, 'removed!']);\n",
       "            Plotly.purge(gd);\n",
       "            observer.disconnect();\n",
       "        }}\n",
       "}});\n",
       "\n",
       "// Listen for the removal of the full notebook cells\n",
       "var notebookContainer = gd.closest('#notebook-container');\n",
       "if (notebookContainer) {{\n",
       "    x.observe(notebookContainer, {childList: true});\n",
       "}}\n",
       "\n",
       "// Listen for the clearing of the current output cell\n",
       "var outputEl = gd.closest('.output');\n",
       "if (outputEl) {{\n",
       "    x.observe(outputEl, {childList: true});\n",
       "}}\n",
       "\n",
       "                        })\n",
       "                };\n",
       "                });\n",
       "            </script>\n",
       "        </div>"
      ]
     },
     "metadata": {},
     "output_type": "display_data"
    }
   ],
   "source": [
    "df = pd.DataFrame(list(word_dict.items())[1:], columns=['Word', 'Frequency'])\n",
    "fig = px.bar(df, x=df['Word'], y=df['Frequency'], orientation='v')\n",
    "fig.show()"
   ]
  },
  {
   "cell_type": "code",
   "execution_count": 173,
   "metadata": {},
   "outputs": [
    {
     "name": "stdout",
     "output_type": "stream",
     "text": [
      "Topics found via LDA:\n",
      "\n",
      "Topic #0:\n",
      "flour dough water levain hydration bread crumb time loaf salt hours rye bake loaves wheat\n",
      "\n",
      "Topic #1:\n",
      "dough minutes let flour hours water oven mix temperature bowl bake place add rest bread\n",
      "\n",
      "Topic #2:\n",
      "bread loaf flour baking recipe sourdough time im good make yeast dough oven like ive\n",
      "\n",
      "Topic #3:\n",
      "water thermal heat baking energy process temperature density things like know cake specific moisture bakers\n",
      "\n",
      "Topic #4:\n",
      "bread like time butter make dough pizza cheese sugar breads baking flavor sourdough used day\n"
     ]
    }
   ],
   "source": [
    "# performing LDA for topic modeling\n",
    "\n",
    "count_vectorizer = CountVectorizer(max_df=0.8, min_df=2, stop_words='english')\n",
    "count_data = count_vectorizer.fit_transform(df_recipe['Cleaned Recipe'])\n",
    "\n",
    "number_topics = 5\n",
    "number_words = 15\n",
    "\n",
    "lda = LDA(n_components=number_topics, n_jobs=-1, learning_method='batch', max_iter=50, random_state=42)\n",
    "lda.fit(count_data)\n",
    "\n",
    "# function to print n top words from each topics found by the LDA fit\n",
    "def print_topics_LDA(model, count_vectorizer, n_top_words):\n",
    "    words = count_vectorizer.get_feature_names()\n",
    "    for topic_idx, topic in enumerate(model.components_):\n",
    "        print(\"\\nTopic #%d:\" % topic_idx)\n",
    "        print(\" \".join([words[i] for i in topic.argsort()[:-n_top_words - 1:-1]]))\n",
    "        \n",
    "# print the topics found by the LDA model\n",
    "print(\"Topics found via LDA:\")\n",
    "print_topics_LDA(lda, count_vectorizer, number_words)\n",
    "\n",
    "# assign topic to each recipe entry in dataframe\n",
    "topic_values = lda.transform(count_data)\n",
    "df_recipe['Topic'] = topic_values.argmax(axis=1)"
   ]
  },
  {
   "cell_type": "code",
   "execution_count": null,
   "metadata": {},
   "outputs": [],
   "source": [
    "# visualize topics using pyLDAvis package\n",
    "import pyLDAvis.sklearn\n",
    " \n",
    "pyLDAvis.enable_notebook()\n",
    "panel = pyLDAvis.sklearn.prepare(lda, count_data, count_vectorizer, mds='tsne')\n",
    "panel"
   ]
  },
  {
   "cell_type": "code",
   "execution_count": 174,
   "metadata": {},
   "outputs": [
    {
     "name": "stdout",
     "output_type": "stream",
     "text": [
      "Topics found via NMF:\n",
      "\n",
      "Topic #0:\n",
      "bread sourdough recipe like time im baking dough loaf think ive good make crumb breads\n",
      "\n",
      "Topic #1:\n",
      "let dough hours minutes temperature pan bowl degrees sit refrigerator remove place oven steam covered\n",
      "\n",
      "Topic #2:\n",
      "berries flour levain rye 50 day recipe seeds water extraction loaves kamut unbleached wheat spelt\n",
      "\n",
      "Topic #3:\n",
      "flour pm water minutes min hours dough starter salt loaf hydration bulk folds 30 10\n",
      "\n",
      "Topic #4:\n",
      "dough minutes place counter let flour seam rounds speed mix cover add pull water middle\n"
     ]
    }
   ],
   "source": [
    "# performing NMF for topic modeling\n",
    "\n",
    "tfidf_vectorizer = TfidfVectorizer(max_df=0.8, min_df=2, stop_words='english')\n",
    "doc_term_matrix = tfidf_vectorizer.fit_transform(df_recipe['Cleaned Recipe'])\n",
    "\n",
    "nmf = NMF(n_components=number_topics, random_state=42)\n",
    "nmf.fit(doc_term_matrix)\n",
    "\n",
    "# function to print n top words from each topics found by the NMF fit\n",
    "def print_topics_NMF(model, tfidf_vectorizer, n_top_words):\n",
    "    words = tfidf_vectorizer.get_feature_names()\n",
    "    for topic_idx, topic in enumerate(model.components_):\n",
    "        print(\"\\nTopic #%d:\" % topic_idx)\n",
    "        print(\" \".join([words[i] for i in topic.argsort()[:-n_top_words - 1:-1]]))\n",
    "\n",
    "print(\"Topics found via NMF:\")\n",
    "print_topics_NMF(nmf, tfidf_vectorizer, number_words)"
   ]
  },
  {
   "cell_type": "code",
   "execution_count": 25,
   "metadata": {},
   "outputs": [],
   "source": [
    "recipes_token = df_recipe['Tokenized Recipe'].tolist()\n",
    "token_sequences = [token for recipe in recipes_token for token in get_sequence(recipe)]"
   ]
  },
  {
   "cell_type": "code",
   "execution_count": 26,
   "metadata": {},
   "outputs": [],
   "source": [
    "file = open('tokenized_recipes.txt', 'w')\n",
    "file.write('\\n'.join(token_sequences))\n",
    "file.close()"
   ]
  },
  {
   "cell_type": "code",
   "execution_count": 176,
   "metadata": {},
   "outputs": [
    {
     "name": "stdout",
     "output_type": "stream",
     "text": [
      "0 hello friends weeks bake impact oat bran spelt bran sifted previously levain really makes wonderful difference breads texture see incredible oven spring i wonder anyone good recipe would 300g h2o 450g flour subtract poolish get water flour triple noon i peachy honey alcohol smelling starter hands sorry pics i followed hotbakes lovely recipe stanley ginsburg site theryebakercom stage 1 sponge day one morning i bake i left oven self cleaning process looks like much shorter gentle rubaud adding levain addins 90 g durum berries 50 g honey 260 g sort preshape rested 10 minutes bake time 4550 minutes internal temperatures rise stuff starch gelatinization protein coagulation impede 7 simple description temperature alters thermal conductivity considered optimal activity reason precautions generally taken avoid deflation ball little bit canola oil bulk container 83 hydration i dont want bread one favorites cream cheese rollin form sourdough bread modernist bread i managed barely stuff roasting pan bake 5 minutes remove lids bake another 510 min needed bake another variation multigrain sourdough bread april 25 2019 david\n",
      "1 hi im sure i understood process darn tasty bread changes procedure 2 minutes get flour wet i glad though first outing delicious confidence boosting i grateful amateur professional truly enjoy sharing stories i love way one came seeds add nice subtle corn flavor bake i adapted one several different differently seasoned breads go crumb collection freshly ground kamut would make chores redo wasn’t satisfied school even though i plans post record baking journey cheers\n"
     ]
    }
   ],
   "source": [
    "# build Markov Chain model using markovify to predict text\n",
    "\n",
    "recipes = df_recipe['Cleaned Recipe'].tolist()\n",
    "text_model = markovify.NewlineText(recipes, state_size=2)\n",
    "for idx in range(2):\n",
    "    print(idx, text_model.make_sentence())"
   ]
  },
  {
   "cell_type": "code",
   "execution_count": 191,
   "metadata": {},
   "outputs": [
    {
     "data": {
      "text/plain": [
       "('i decided venture away thatsort i first started baking encouraged wife try something new i’m retired us army infantry officer 10 years based average yearly returns top 25 returned 05 past 44 years wow entire time bakingjim recommends slice dough top brown dough shape desired place dough proofing baskets cover moist tea towel plastic wrap let sit linen tea towel plastic wrap let sit room temperature seems like ought heavier water it’s prevalent earthly material always expressed weight per unit volume words i thimble coffee cup boot space old mgb obviously require different weights substance fill unit measure changes weight required fill us standard handbag per big old box i gradually increase temperature takes energy input thermal energy takes energy heat specific heat capacity metal obvious since know aluminum pot i still havent chance try tonight',\n",
       " 4.897058823529412)"
      ]
     },
     "execution_count": 191,
     "metadata": {},
     "output_type": "execute_result"
    }
   ],
   "source": [
    "def getSent(model, iters, minLength=1):\n",
    "  sentences = {}\n",
    "  for i in range(iters): \n",
    "    modelGen = model.chain.gen()\n",
    "    prevPrevWord = \"___BEGIN__\"\n",
    "    prevWord = next(modelGen)\n",
    "    madeSentence = prevWord + \" \"\n",
    "    \n",
    "    totalScore = 0\n",
    "    numWords = 1\n",
    "    for curWord in modelGen:\n",
    "      madeSentence += curWord + \" \"\n",
    "      numWords += 1\n",
    "      totalScore += model.chain.model[(prevPrevWord, prevWord)][curWord]\n",
    "      prevPrevWord = prevWord\n",
    "      prevWord = curWord\n",
    "    \n",
    "    madeSentence = madeSentence.strip()\n",
    "    if numWords == 0: continue\n",
    "    \n",
    "    if numWords < minLength: continue\n",
    "    if madeSentence in sentences: continue\n",
    "    \n",
    "    totalScore += model.chain.model[(prevPrevWord, prevWord)][\"___END__\"]\n",
    "    \n",
    "    sentences[madeSentence] = totalScore/float(numWords)\n",
    "  \n",
    "  # Get the sentences as (sentence, score) pairs and sort them so the sentences with the highest score appear first\n",
    "  sorted(sentences.items(), key=lambda x: -x[1])\n",
    "  \n",
    "  return sentences.items()\n",
    "\n",
    "list(getSent(text_model, 500, 4))[0]"
   ]
  },
  {
   "cell_type": "code",
   "execution_count": 27,
   "metadata": {},
   "outputs": [],
   "source": [
    "tokenizer = Tokenizer()\n",
    "tokenizer.fit_on_texts(token_sequences)\n",
    "num_sequences = tokenizer.texts_to_sequences(token_sequences)\n",
    "num_sequences = pad_sequences(num_sequences, padding='pre')\n",
    "vocab_size = len(tokenizer.word_index) + 1"
   ]
  },
  {
   "cell_type": "code",
   "execution_count": 28,
   "metadata": {},
   "outputs": [],
   "source": [
    "sequences_array = np.array(num_sequences)\n",
    "X, y = sequences_array[:,:-1], sequences_array[:,-1]\n",
    "y = to_categorical(y, num_classes=vocab_size)\n",
    "seq_length = X.shape[1]"
   ]
  },
  {
   "cell_type": "code",
   "execution_count": 29,
   "metadata": {},
   "outputs": [],
   "source": [
    "with open('tokenizer.pickle', 'wb') as handle:\n",
    "    pickle.dump(tokenizer, handle, protocol=pickle.HIGHEST_PROTOCOL)"
   ]
  },
  {
   "cell_type": "code",
   "execution_count": null,
   "metadata": {},
   "outputs": [],
   "source": [
    "# train_text = []\n",
    "# for idx in range(len(X)):    \n",
    "#     strings = [str(x) for x in X[idx].tolist()]\n",
    "#     train_text.append(','.join(strings))"
   ]
  },
  {
   "cell_type": "code",
   "execution_count": null,
   "metadata": {},
   "outputs": [],
   "source": [
    "# train_data = pd.DataFrame(train_text)\n",
    "# train_data.to_csv('train_data.csv')"
   ]
  },
  {
   "cell_type": "code",
   "execution_count": null,
   "metadata": {},
   "outputs": [],
   "source": [
    "# training_labels = pd.DataFrame(sequences_array[:,-1])\n",
    "# training_labels.head()\n",
    "# training_labels.to_csv('train_labels.csv')"
   ]
  },
  {
   "cell_type": "code",
   "execution_count": 30,
   "metadata": {},
   "outputs": [
    {
     "name": "stdout",
     "output_type": "stream",
     "text": [
      "Model: \"sequential_4\"\n",
      "_________________________________________________________________\n",
      "Layer (type)                 Output Shape              Param #   \n",
      "=================================================================\n",
      "embedding_4 (Embedding)      (None, 20, 20)            338700    \n",
      "_________________________________________________________________\n",
      "lstm_7 (LSTM)                (None, 20, 50)            14200     \n",
      "_________________________________________________________________\n",
      "lstm_8 (LSTM)                (None, 50)                20200     \n",
      "_________________________________________________________________\n",
      "dense_7 (Dense)              (None, 50)                2550      \n",
      "_________________________________________________________________\n",
      "dense_8 (Dense)              (None, 16935)             863685    \n",
      "=================================================================\n",
      "Total params: 1,239,335\n",
      "Trainable params: 1,239,335\n",
      "Non-trainable params: 0\n",
      "_________________________________________________________________\n",
      "None\n"
     ]
    }
   ],
   "source": [
    "model = Sequential()\n",
    "model.add(Embedding(vocab_size, seq_length, input_length=seq_length))\n",
    "model.add(LSTM(50, return_sequences=True))\n",
    "model.add(LSTM(50))\n",
    "model.add(Dense(50, activation='relu'))\n",
    "model.add(Dense(vocab_size, activation='softmax'))\n",
    "model.compile(loss='categorical_crossentropy', optimizer='adam', metrics=['accuracy'])\n",
    "print(model.summary())"
   ]
  },
  {
   "cell_type": "code",
   "execution_count": 33,
   "metadata": {},
   "outputs": [
    {
     "name": "stdout",
     "output_type": "stream",
     "text": [
      "Epoch 1/100\n",
      "196659/196659 [==============================] - 172s 875us/step - loss: 7.1892 - accuracy: 0.0499\n",
      "\n",
      "Epoch 00001: loss improved from inf to 7.18920, saving model to ./checkpoints/recipe_model.h5\n",
      "Epoch 2/100\n",
      "196659/196659 [==============================] - 175s 889us/step - loss: 6.9302 - accuracy: 0.0647\n",
      "\n",
      "Epoch 00002: loss improved from 7.18920 to 6.93024, saving model to ./checkpoints/recipe_model.h5\n",
      "Epoch 3/100\n",
      "196659/196659 [==============================] - ETA: 0s - loss: 6.6744 - accuracy: 0.07 - 179s 912us/step - loss: 6.6743 - accuracy: 0.0771\n",
      "\n",
      "Epoch 00003: loss improved from 6.93024 to 6.67426, saving model to ./checkpoints/recipe_model.h5\n",
      "Epoch 4/100\n",
      "196659/196659 [==============================] - 171s 871us/step - loss: 6.4439 - accuracy: 0.0918\n",
      "\n",
      "Epoch 00004: loss improved from 6.67426 to 6.44389, saving model to ./checkpoints/recipe_model.h5\n",
      "Epoch 5/100\n",
      "196659/196659 [==============================] - 171s 871us/step - loss: 6.2292 - accuracy: 0.1097\n",
      "\n",
      "Epoch 00005: loss improved from 6.44389 to 6.22922, saving model to ./checkpoints/recipe_model.h5\n",
      "Epoch 6/100\n",
      "196659/196659 [==============================] - 171s 867us/step - loss: 6.0377 - accuracy: 0.1274\n",
      "\n",
      "Epoch 00006: loss improved from 6.22922 to 6.03774, saving model to ./checkpoints/recipe_model.h5\n",
      "Epoch 7/100\n",
      "196659/196659 [==============================] - 169s 861us/step - loss: 5.8726 - accuracy: 0.1413\n",
      "\n",
      "Epoch 00007: loss improved from 6.03774 to 5.87262, saving model to ./checkpoints/recipe_model.h5\n",
      "Epoch 8/100\n",
      "196659/196659 [==============================] - 169s 860us/step - loss: 5.7285 - accuracy: 0.1517\n",
      "\n",
      "Epoch 00008: loss improved from 5.87262 to 5.72854, saving model to ./checkpoints/recipe_model.h5\n",
      "Epoch 9/100\n",
      "196659/196659 [==============================] - 169s 859us/step - loss: 5.5998 - accuracy: 0.1606\n",
      "\n",
      "Epoch 00009: loss improved from 5.72854 to 5.59982, saving model to ./checkpoints/recipe_model.h5\n",
      "Epoch 10/100\n",
      "196659/196659 [==============================] - 169s 859us/step - loss: 5.4823 - accuracy: 0.1678\n",
      "\n",
      "Epoch 00010: loss improved from 5.59982 to 5.48232, saving model to ./checkpoints/recipe_model.h5\n",
      "Epoch 11/100\n",
      "196659/196659 [==============================] - 170s 862us/step - loss: 5.3729 - accuracy: 0.1738\n",
      "\n",
      "Epoch 00011: loss improved from 5.48232 to 5.37287, saving model to ./checkpoints/recipe_model.h5\n",
      "Epoch 12/100\n",
      "196659/196659 [==============================] - 171s 868us/step - loss: 5.2736 - accuracy: 0.1792\n",
      "\n",
      "Epoch 00012: loss improved from 5.37287 to 5.27364, saving model to ./checkpoints/recipe_model.h5\n",
      "Epoch 13/100\n",
      "196659/196659 [==============================] - 169s 859us/step - loss: 5.1805 - accuracy: 0.1840\n",
      "\n",
      "Epoch 00013: loss improved from 5.27364 to 5.18052, saving model to ./checkpoints/recipe_model.h5\n",
      "Epoch 14/100\n",
      "196659/196659 [==============================] - 191s 973us/step - loss: 5.0942 - accuracy: 0.1888\n",
      "\n",
      "Epoch 00014: loss improved from 5.18052 to 5.09416, saving model to ./checkpoints/recipe_model.h5\n",
      "Epoch 15/100\n",
      "196659/196659 [==============================] - 195s 990us/step - loss: 5.0143 - accuracy: 0.1927\n",
      "\n",
      "Epoch 00015: loss improved from 5.09416 to 5.01431, saving model to ./checkpoints/recipe_model.h5\n",
      "Epoch 16/100\n",
      "196659/196659 [==============================] - 173s 881us/step - loss: 4.9384 - accuracy: 0.1968\n",
      "\n",
      "Epoch 00016: loss improved from 5.01431 to 4.93836, saving model to ./checkpoints/recipe_model.h5\n",
      "Epoch 17/100\n",
      "196659/196659 [==============================] - 173s 879us/step - loss: 4.8661 - accuracy: 0.2007\n",
      "\n",
      "Epoch 00017: loss improved from 4.93836 to 4.86613, saving model to ./checkpoints/recipe_model.h5\n",
      "Epoch 18/100\n",
      "196659/196659 [==============================] - 173s 882us/step - loss: 4.8008 - accuracy: 0.2049\n",
      "\n",
      "Epoch 00018: loss improved from 4.86613 to 4.80077, saving model to ./checkpoints/recipe_model.h5\n",
      "Epoch 19/100\n",
      "196659/196659 [==============================] - 174s 883us/step - loss: 4.7352 - accuracy: 0.2086\n",
      "\n",
      "Epoch 00019: loss improved from 4.80077 to 4.73522, saving model to ./checkpoints/recipe_model.h5\n",
      "Epoch 20/100\n",
      "196659/196659 [==============================] - 173s 880us/step - loss: 4.6767 - accuracy: 0.2138\n",
      "\n",
      "Epoch 00020: loss improved from 4.73522 to 4.67670, saving model to ./checkpoints/recipe_model.h5\n",
      "Epoch 21/100\n",
      "196659/196659 [==============================] - 173s 881us/step - loss: 4.6203 - accuracy: 0.2177\n",
      "\n",
      "Epoch 00021: loss improved from 4.67670 to 4.62026, saving model to ./checkpoints/recipe_model.h5\n",
      "Epoch 22/100\n",
      "196659/196659 [==============================] - 173s 882us/step - loss: 4.5664 - accuracy: 0.2231\n",
      "\n",
      "Epoch 00022: loss improved from 4.62026 to 4.56642, saving model to ./checkpoints/recipe_model.h5\n",
      "Epoch 23/100\n",
      "196659/196659 [==============================] - 174s 886us/step - loss: 4.5150 - accuracy: 0.2275\n",
      "\n",
      "Epoch 00023: loss improved from 4.56642 to 4.51505, saving model to ./checkpoints/recipe_model.h5\n",
      "Epoch 24/100\n",
      "196659/196659 [==============================] - 174s 883us/step - loss: 4.4670 - accuracy: 0.2330\n",
      "\n",
      "Epoch 00024: loss improved from 4.51505 to 4.46697, saving model to ./checkpoints/recipe_model.h5\n",
      "Epoch 25/100\n",
      "196659/196659 [==============================] - 174s 885us/step - loss: 4.4218 - accuracy: 0.2376\n",
      "\n",
      "Epoch 00025: loss improved from 4.46697 to 4.42182, saving model to ./checkpoints/recipe_model.h5\n",
      "Epoch 26/100\n",
      "196659/196659 [==============================] - 176s 894us/step - loss: 4.3769 - accuracy: 0.2422\n",
      "\n",
      "Epoch 00026: loss improved from 4.42182 to 4.37690, saving model to ./checkpoints/recipe_model.h5\n",
      "Epoch 27/100\n",
      "196659/196659 [==============================] - 187s 950us/step - loss: 4.3348 - accuracy: 0.2470\n",
      "\n",
      "Epoch 00027: loss improved from 4.37690 to 4.33479, saving model to ./checkpoints/recipe_model.h5\n",
      "Epoch 28/100\n",
      "196659/196659 [==============================] - 176s 894us/step - loss: 4.2958 - accuracy: 0.2513\n",
      "\n",
      "Epoch 00028: loss improved from 4.33479 to 4.29576, saving model to ./checkpoints/recipe_model.h5\n",
      "Epoch 29/100\n",
      "196659/196659 [==============================] - 175s 888us/step - loss: 4.2559 - accuracy: 0.2552\n",
      "\n",
      "Epoch 00029: loss improved from 4.29576 to 4.25590, saving model to ./checkpoints/recipe_model.h5\n",
      "Epoch 30/100\n",
      "196659/196659 [==============================] - 177s 898us/step - loss: 4.2197 - accuracy: 0.2600\n",
      "\n",
      "Epoch 00030: loss improved from 4.25590 to 4.21971, saving model to ./checkpoints/recipe_model.h5\n",
      "Epoch 31/100\n",
      "196659/196659 [==============================] - 175s 892us/step - loss: 4.1840 - accuracy: 0.2638\n",
      "\n",
      "Epoch 00031: loss improved from 4.21971 to 4.18403, saving model to ./checkpoints/recipe_model.h5\n",
      "Epoch 32/100\n",
      "196659/196659 [==============================] - 176s 894us/step - loss: 4.1516 - accuracy: 0.2676\n",
      "\n",
      "Epoch 00032: loss improved from 4.18403 to 4.15162, saving model to ./checkpoints/recipe_model.h5\n",
      "Epoch 33/100\n",
      "196659/196659 [==============================] - 176s 893us/step - loss: 4.1202 - accuracy: 0.2713\n",
      "\n",
      "Epoch 00033: loss improved from 4.15162 to 4.12018, saving model to ./checkpoints/recipe_model.h5\n",
      "Epoch 34/100\n",
      "196659/196659 [==============================] - 176s 893us/step - loss: 4.0872 - accuracy: 0.2744\n",
      "\n",
      "Epoch 00034: loss improved from 4.12018 to 4.08720, saving model to ./checkpoints/recipe_model.h5\n",
      "Epoch 35/100\n",
      "196659/196659 [==============================] - 176s 895us/step - loss: 4.0598 - accuracy: 0.2779\n",
      "\n",
      "Epoch 00035: loss improved from 4.08720 to 4.05980, saving model to ./checkpoints/recipe_model.h5\n",
      "Epoch 36/100\n",
      "196659/196659 [==============================] - 177s 902us/step - loss: 4.0295 - accuracy: 0.2821\n",
      "\n",
      "Epoch 00036: loss improved from 4.05980 to 4.02947, saving model to ./checkpoints/recipe_model.h5\n",
      "Epoch 37/100\n",
      "196659/196659 [==============================] - 176s 894us/step - loss: 4.0035 - accuracy: 0.2845\n",
      "\n",
      "Epoch 00037: loss improved from 4.02947 to 4.00347, saving model to ./checkpoints/recipe_model.h5\n",
      "Epoch 38/100\n",
      "196659/196659 [==============================] - 176s 897us/step - loss: 3.9781 - accuracy: 0.2883\n",
      "\n",
      "Epoch 00038: loss improved from 4.00347 to 3.97813, saving model to ./checkpoints/recipe_model.h5\n",
      "Epoch 39/100\n",
      "196659/196659 [==============================] - 176s 894us/step - loss: 3.9494 - accuracy: 0.2910\n",
      "\n",
      "Epoch 00039: loss improved from 3.97813 to 3.94937, saving model to ./checkpoints/recipe_model.h5\n"
     ]
    },
    {
     "name": "stdout",
     "output_type": "stream",
     "text": [
      "Epoch 40/100\n",
      "196659/196659 [==============================] - 171s 871us/step - loss: 3.9231 - accuracy: 0.2941\n",
      "\n",
      "Epoch 00040: loss improved from 3.94937 to 3.92312, saving model to ./checkpoints/recipe_model.h5\n",
      "Epoch 41/100\n",
      "196659/196659 [==============================] - 172s 876us/step - loss: 3.9034 - accuracy: 0.2968\n",
      "\n",
      "Epoch 00041: loss improved from 3.92312 to 3.90340, saving model to ./checkpoints/recipe_model.h5\n",
      "Epoch 42/100\n",
      "196659/196659 [==============================] - 173s 880us/step - loss: 3.8774 - accuracy: 0.2995\n",
      "\n",
      "Epoch 00042: loss improved from 3.90340 to 3.87740, saving model to ./checkpoints/recipe_model.h5\n",
      "Epoch 43/100\n",
      "196659/196659 [==============================] - 171s 871us/step - loss: 3.8567 - accuracy: 0.3017\n",
      "\n",
      "Epoch 00043: loss improved from 3.87740 to 3.85669, saving model to ./checkpoints/recipe_model.h5\n",
      "Epoch 44/100\n",
      "196659/196659 [==============================] - 170s 866us/step - loss: 3.8304 - accuracy: 0.3052\n",
      "\n",
      "Epoch 00044: loss improved from 3.85669 to 3.83040, saving model to ./checkpoints/recipe_model.h5\n",
      "Epoch 45/100\n",
      "196659/196659 [==============================] - 171s 870us/step - loss: 3.8102 - accuracy: 0.3070\n",
      "\n",
      "Epoch 00045: loss improved from 3.83040 to 3.81018, saving model to ./checkpoints/recipe_model.h5\n",
      "Epoch 46/100\n",
      "196659/196659 [==============================] - 171s 870us/step - loss: 3.7917 - accuracy: 0.3097\n",
      "\n",
      "Epoch 00046: loss improved from 3.81018 to 3.79165, saving model to ./checkpoints/recipe_model.h5\n",
      "Epoch 47/100\n",
      "196659/196659 [==============================] - 173s 881us/step - loss: 3.7713 - accuracy: 0.3122\n",
      "\n",
      "Epoch 00047: loss improved from 3.79165 to 3.77128, saving model to ./checkpoints/recipe_model.h5\n",
      "Epoch 48/100\n",
      "196659/196659 [==============================] - 171s 869us/step - loss: 3.7515 - accuracy: 0.3149\n",
      "\n",
      "Epoch 00048: loss improved from 3.77128 to 3.75153, saving model to ./checkpoints/recipe_model.h5\n",
      "Epoch 49/100\n",
      "196659/196659 [==============================] - 172s 872us/step - loss: 3.7311 - accuracy: 0.3170\n",
      "\n",
      "Epoch 00049: loss improved from 3.75153 to 3.73115, saving model to ./checkpoints/recipe_model.h5\n",
      "Epoch 50/100\n",
      "196659/196659 [==============================] - 173s 882us/step - loss: 3.7136 - accuracy: 0.3189\n",
      "\n",
      "Epoch 00050: loss improved from 3.73115 to 3.71359, saving model to ./checkpoints/recipe_model.h5\n",
      "Epoch 51/100\n",
      "196659/196659 [==============================] - 172s 874us/step - loss: 3.6933 - accuracy: 0.3223\n",
      "\n",
      "Epoch 00051: loss improved from 3.71359 to 3.69327, saving model to ./checkpoints/recipe_model.h5\n",
      "Epoch 52/100\n",
      "196659/196659 [==============================] - 172s 875us/step - loss: 3.6794 - accuracy: 0.3240\n",
      "\n",
      "Epoch 00052: loss improved from 3.69327 to 3.67943, saving model to ./checkpoints/recipe_model.h5\n",
      "Epoch 53/100\n",
      "196659/196659 [==============================] - 172s 876us/step - loss: 3.6634 - accuracy: 0.3254\n",
      "\n",
      "Epoch 00053: loss improved from 3.67943 to 3.66337, saving model to ./checkpoints/recipe_model.h5\n",
      "Epoch 54/100\n",
      "196659/196659 [==============================] - 173s 879us/step - loss: 3.6413 - accuracy: 0.3289\n",
      "\n",
      "Epoch 00054: loss improved from 3.66337 to 3.64126, saving model to ./checkpoints/recipe_model.h5\n",
      "Epoch 55/100\n",
      "196659/196659 [==============================] - 172s 875us/step - loss: 3.6264 - accuracy: 0.3303\n",
      "\n",
      "Epoch 00055: loss improved from 3.64126 to 3.62638, saving model to ./checkpoints/recipe_model.h5\n",
      "Epoch 56/100\n",
      "196659/196659 [==============================] - 173s 878us/step - loss: 3.6121 - accuracy: 0.3333\n",
      "\n",
      "Epoch 00056: loss improved from 3.62638 to 3.61209, saving model to ./checkpoints/recipe_model.h5\n",
      "Epoch 57/100\n",
      "196659/196659 [==============================] - 173s 882us/step - loss: 3.5963 - accuracy: 0.3334\n",
      "\n",
      "Epoch 00057: loss improved from 3.61209 to 3.59629, saving model to ./checkpoints/recipe_model.h5\n",
      "Epoch 58/100\n",
      "196659/196659 [==============================] - 173s 878us/step - loss: 3.5790 - accuracy: 0.3366\n",
      "\n",
      "Epoch 00058: loss improved from 3.59629 to 3.57899, saving model to ./checkpoints/recipe_model.h5\n",
      "Epoch 59/100\n",
      "196659/196659 [==============================] - 172s 876us/step - loss: 3.5642 - accuracy: 0.3381\n",
      "\n",
      "Epoch 00059: loss improved from 3.57899 to 3.56421, saving model to ./checkpoints/recipe_model.h5\n",
      "Epoch 60/100\n",
      "196659/196659 [==============================] - 172s 875us/step - loss: 3.5518 - accuracy: 0.3394\n",
      "\n",
      "Epoch 00060: loss improved from 3.56421 to 3.55180, saving model to ./checkpoints/recipe_model.h5\n",
      "Epoch 61/100\n",
      "196659/196659 [==============================] - 173s 879us/step - loss: 3.5387 - accuracy: 0.3411\n",
      "\n",
      "Epoch 00061: loss improved from 3.55180 to 3.53872, saving model to ./checkpoints/recipe_model.h5\n",
      "Epoch 62/100\n",
      "196659/196659 [==============================] - 173s 880us/step - loss: 3.5209 - accuracy: 0.3441\n",
      "\n",
      "Epoch 00062: loss improved from 3.53872 to 3.52086, saving model to ./checkpoints/recipe_model.h5\n",
      "Epoch 63/100\n",
      "196659/196659 [==============================] - 173s 879us/step - loss: 3.5084 - accuracy: 0.3459\n",
      "\n",
      "Epoch 00063: loss improved from 3.52086 to 3.50843, saving model to ./checkpoints/recipe_model.h5\n",
      "Epoch 64/100\n",
      "196659/196659 [==============================] - 174s 883us/step - loss: 3.4966 - accuracy: 0.3470\n",
      "\n",
      "Epoch 00064: loss improved from 3.50843 to 3.49659, saving model to ./checkpoints/recipe_model.h5\n",
      "Epoch 65/100\n",
      "196659/196659 [==============================] - 173s 878us/step - loss: 3.4830 - accuracy: 0.3487\n",
      "\n",
      "Epoch 00065: loss improved from 3.49659 to 3.48296, saving model to ./checkpoints/recipe_model.h5\n",
      "Epoch 66/100\n",
      "196659/196659 [==============================] - 173s 880us/step - loss: 3.4705 - accuracy: 0.3501\n",
      "\n",
      "Epoch 00066: loss improved from 3.48296 to 3.47047, saving model to ./checkpoints/recipe_model.h5\n",
      "Epoch 67/100\n",
      "196659/196659 [==============================] - 174s 885us/step - loss: 3.4570 - accuracy: 0.3519\n",
      "\n",
      "Epoch 00067: loss improved from 3.47047 to 3.45702, saving model to ./checkpoints/recipe_model.h5\n",
      "Epoch 68/100\n",
      "196659/196659 [==============================] - 175s 889us/step - loss: 3.4465 - accuracy: 0.3535\n",
      "\n",
      "Epoch 00068: loss improved from 3.45702 to 3.44646, saving model to ./checkpoints/recipe_model.h5\n",
      "Epoch 69/100\n",
      "196659/196659 [==============================] - 176s 893us/step - loss: 3.4334 - accuracy: 0.3562\n",
      "\n",
      "Epoch 00069: loss improved from 3.44646 to 3.43339, saving model to ./checkpoints/recipe_model.h5\n",
      "Epoch 70/100\n",
      "196659/196659 [==============================] - 174s 887us/step - loss: 3.4204 - accuracy: 0.3570\n",
      "\n",
      "Epoch 00070: loss improved from 3.43339 to 3.42045, saving model to ./checkpoints/recipe_model.h5\n",
      "Epoch 71/100\n",
      "196659/196659 [==============================] - 174s 883us/step - loss: 3.4134 - accuracy: 0.3580\n",
      "\n",
      "Epoch 00071: loss improved from 3.42045 to 3.41336, saving model to ./checkpoints/recipe_model.h5\n",
      "Epoch 72/100\n",
      "196659/196659 [==============================] - 174s 882us/step - loss: 3.3977 - accuracy: 0.3598\n",
      "\n",
      "Epoch 00072: loss improved from 3.41336 to 3.39772, saving model to ./checkpoints/recipe_model.h5\n",
      "Epoch 73/100\n",
      "196659/196659 [==============================] - 174s 884us/step - loss: 3.3888 - accuracy: 0.3613\n",
      "\n",
      "Epoch 00073: loss improved from 3.39772 to 3.38885, saving model to ./checkpoints/recipe_model.h5\n",
      "Epoch 74/100\n",
      "196659/196659 [==============================] - 174s 885us/step - loss: 3.3799 - accuracy: 0.3621\n",
      "\n",
      "Epoch 00074: loss improved from 3.38885 to 3.37988, saving model to ./checkpoints/recipe_model.h5\n",
      "Epoch 75/100\n",
      "196659/196659 [==============================] - 174s 884us/step - loss: 3.3649 - accuracy: 0.3651\n",
      "\n",
      "Epoch 00075: loss improved from 3.37988 to 3.36487, saving model to ./checkpoints/recipe_model.h5\n",
      "Epoch 76/100\n",
      "196659/196659 [==============================] - 174s 886us/step - loss: 3.3567 - accuracy: 0.3647\n",
      "\n",
      "Epoch 00076: loss improved from 3.36487 to 3.35665, saving model to ./checkpoints/recipe_model.h5\n",
      "Epoch 77/100\n",
      "196659/196659 [==============================] - 175s 892us/step - loss: 3.3453 - accuracy: 0.3671\n",
      "\n",
      "Epoch 00077: loss improved from 3.35665 to 3.34525, saving model to ./checkpoints/recipe_model.h5\n",
      "Epoch 78/100\n",
      "196659/196659 [==============================] - 175s 890us/step - loss: 3.3366 - accuracy: 0.3681\n",
      "\n",
      "Epoch 00078: loss improved from 3.34525 to 3.33657, saving model to ./checkpoints/recipe_model.h5\n"
     ]
    },
    {
     "name": "stdout",
     "output_type": "stream",
     "text": [
      "Epoch 79/100\n",
      "196659/196659 [==============================] - 168s 855us/step - loss: 3.3241 - accuracy: 0.3705\n",
      "\n",
      "Epoch 00079: loss improved from 3.33657 to 3.32413, saving model to ./checkpoints/recipe_model.h5\n",
      "Epoch 80/100\n",
      "196659/196659 [==============================] - 168s 856us/step - loss: 3.3169 - accuracy: 0.3702\n",
      "\n",
      "Epoch 00080: loss improved from 3.32413 to 3.31693, saving model to ./checkpoints/recipe_model.h5\n",
      "Epoch 81/100\n",
      "196659/196659 [==============================] - 168s 856us/step - loss: 3.3019 - accuracy: 0.3728\n",
      "\n",
      "Epoch 00081: loss improved from 3.31693 to 3.30185, saving model to ./checkpoints/recipe_model.h5\n",
      "Epoch 82/100\n",
      "196659/196659 [==============================] - 168s 853us/step - loss: 3.2997 - accuracy: 0.3735\n",
      "\n",
      "Epoch 00082: loss improved from 3.30185 to 3.29971, saving model to ./checkpoints/recipe_model.h5\n",
      "Epoch 83/100\n",
      "196659/196659 [==============================] - 170s 863us/step - loss: 3.2859 - accuracy: 0.3756\n",
      "\n",
      "Epoch 00083: loss improved from 3.29971 to 3.28587, saving model to ./checkpoints/recipe_model.h5\n",
      "Epoch 84/100\n",
      "196659/196659 [==============================] - 168s 855us/step - loss: 3.2787 - accuracy: 0.3765\n",
      "\n",
      "Epoch 00084: loss improved from 3.28587 to 3.27870, saving model to ./checkpoints/recipe_model.h5\n",
      "Epoch 85/100\n",
      "196659/196659 [==============================] - 168s 856us/step - loss: 3.2683 - accuracy: 0.3767\n",
      "\n",
      "Epoch 00085: loss improved from 3.27870 to 3.26827, saving model to ./checkpoints/recipe_model.h5\n",
      "Epoch 86/100\n",
      "196659/196659 [==============================] - 168s 855us/step - loss: 3.2578 - accuracy: 0.3781\n",
      "\n",
      "Epoch 00086: loss improved from 3.26827 to 3.25781, saving model to ./checkpoints/recipe_model.h5\n",
      "Epoch 87/100\n",
      "196659/196659 [==============================] - 168s 856us/step - loss: 3.2521 - accuracy: 0.3785\n",
      "\n",
      "Epoch 00087: loss improved from 3.25781 to 3.25215, saving model to ./checkpoints/recipe_model.h5\n",
      "Epoch 88/100\n",
      "196659/196659 [==============================] - 169s 861us/step - loss: 3.2452 - accuracy: 0.3806\n",
      "\n",
      "Epoch 00088: loss improved from 3.25215 to 3.24516, saving model to ./checkpoints/recipe_model.h5\n",
      "Epoch 89/100\n",
      "196659/196659 [==============================] - 169s 859us/step - loss: 3.2295 - accuracy: 0.3826\n",
      "\n",
      "Epoch 00089: loss improved from 3.24516 to 3.22947, saving model to ./checkpoints/recipe_model.h5\n",
      "Epoch 90/100\n",
      "196659/196659 [==============================] - 169s 859us/step - loss: 3.2262 - accuracy: 0.3832\n",
      "\n",
      "Epoch 00090: loss improved from 3.22947 to 3.22616, saving model to ./checkpoints/recipe_model.h5\n",
      "Epoch 91/100\n",
      "196659/196659 [==============================] - 168s 853us/step - loss: 3.2168 - accuracy: 0.3856\n",
      "\n",
      "Epoch 00091: loss improved from 3.22616 to 3.21679, saving model to ./checkpoints/recipe_model.h5\n",
      "Epoch 92/100\n",
      "196659/196659 [==============================] - 169s 860us/step - loss: 3.2106 - accuracy: 0.3853\n",
      "\n",
      "Epoch 00092: loss improved from 3.21679 to 3.21056, saving model to ./checkpoints/recipe_model.h5\n",
      "Epoch 93/100\n",
      "196659/196659 [==============================] - 169s 857us/step - loss: 3.1975 - accuracy: 0.3883\n",
      "\n",
      "Epoch 00093: loss improved from 3.21056 to 3.19754, saving model to ./checkpoints/recipe_model.h5\n",
      "Epoch 94/100\n",
      "196659/196659 [==============================] - 169s 857us/step - loss: 3.1946 - accuracy: 0.3881\n",
      "\n",
      "Epoch 00094: loss improved from 3.19754 to 3.19455, saving model to ./checkpoints/recipe_model.h5\n",
      "Epoch 95/100\n",
      "196659/196659 [==============================] - 168s 855us/step - loss: 3.1824 - accuracy: 0.3893\n",
      "\n",
      "Epoch 00095: loss improved from 3.19455 to 3.18241, saving model to ./checkpoints/recipe_model.h5\n",
      "Epoch 96/100\n",
      "196659/196659 [==============================] - 169s 857us/step - loss: 3.1787 - accuracy: 0.3907\n",
      "\n",
      "Epoch 00096: loss improved from 3.18241 to 3.17867, saving model to ./checkpoints/recipe_model.h5\n",
      "Epoch 97/100\n",
      "196659/196659 [==============================] - 169s 859us/step - loss: 3.1709 - accuracy: 0.3907\n",
      "\n",
      "Epoch 00097: loss improved from 3.17867 to 3.17087, saving model to ./checkpoints/recipe_model.h5\n",
      "Epoch 98/100\n",
      "196659/196659 [==============================] - 169s 858us/step - loss: 3.1610 - accuracy: 0.3917\n",
      "\n",
      "Epoch 00098: loss improved from 3.17087 to 3.16105, saving model to ./checkpoints/recipe_model.h5\n",
      "Epoch 99/100\n",
      "196659/196659 [==============================] - 169s 858us/step - loss: 3.1533 - accuracy: 0.3937\n",
      "\n",
      "Epoch 00099: loss improved from 3.16105 to 3.15334, saving model to ./checkpoints/recipe_model.h5\n",
      "Epoch 100/100\n",
      "196659/196659 [==============================] - 168s 856us/step - loss: 3.1489 - accuracy: 0.3935\n",
      "\n",
      "Epoch 00100: loss improved from 3.15334 to 3.14888, saving model to ./checkpoints/recipe_model.h5\n"
     ]
    },
    {
     "ename": "NameError",
     "evalue": "name 'dump' is not defined",
     "output_type": "error",
     "traceback": [
      "\u001b[0;31m---------------------------------------------------------------------------\u001b[0m",
      "\u001b[0;31mNameError\u001b[0m                                 Traceback (most recent call last)",
      "\u001b[0;32m<ipython-input-33-21ee2a1c16fa>\u001b[0m in \u001b[0;36m<module>\u001b[0;34m\u001b[0m\n\u001b[1;32m      2\u001b[0m \u001b[0mcheckpoint\u001b[0m \u001b[0;34m=\u001b[0m \u001b[0mModelCheckpoint\u001b[0m\u001b[0;34m(\u001b[0m\u001b[0mpath\u001b[0m\u001b[0;34m,\u001b[0m \u001b[0mmonitor\u001b[0m\u001b[0;34m=\u001b[0m\u001b[0;34m'loss'\u001b[0m\u001b[0;34m,\u001b[0m \u001b[0mverbose\u001b[0m\u001b[0;34m=\u001b[0m\u001b[0;36m1\u001b[0m\u001b[0;34m,\u001b[0m \u001b[0msave_best_only\u001b[0m\u001b[0;34m=\u001b[0m\u001b[0;32mTrue\u001b[0m\u001b[0;34m,\u001b[0m \u001b[0mmode\u001b[0m\u001b[0;34m=\u001b[0m\u001b[0;34m'min'\u001b[0m\u001b[0;34m)\u001b[0m\u001b[0;34m\u001b[0m\u001b[0;34m\u001b[0m\u001b[0m\n\u001b[1;32m      3\u001b[0m \u001b[0mmodel\u001b[0m\u001b[0;34m.\u001b[0m\u001b[0mfit\u001b[0m\u001b[0;34m(\u001b[0m\u001b[0mX\u001b[0m\u001b[0;34m,\u001b[0m \u001b[0my\u001b[0m\u001b[0;34m,\u001b[0m \u001b[0mbatch_size\u001b[0m\u001b[0;34m=\u001b[0m\u001b[0;36m128\u001b[0m\u001b[0;34m,\u001b[0m \u001b[0mepochs\u001b[0m\u001b[0;34m=\u001b[0m\u001b[0;36m100\u001b[0m\u001b[0;34m,\u001b[0m \u001b[0mverbose\u001b[0m\u001b[0;34m=\u001b[0m\u001b[0;36m1\u001b[0m\u001b[0;34m,\u001b[0m \u001b[0mcallbacks\u001b[0m\u001b[0;34m=\u001b[0m\u001b[0;34m[\u001b[0m\u001b[0mcheckpoint\u001b[0m\u001b[0;34m]\u001b[0m\u001b[0;34m)\u001b[0m\u001b[0;34m\u001b[0m\u001b[0;34m\u001b[0m\u001b[0m\n\u001b[0;32m----> 4\u001b[0;31m \u001b[0mdump\u001b[0m\u001b[0;34m(\u001b[0m\u001b[0mtokenizer\u001b[0m\u001b[0;34m,\u001b[0m \u001b[0mopen\u001b[0m\u001b[0;34m(\u001b[0m\u001b[0;34m'tokenizer_model.pkl'\u001b[0m\u001b[0;34m,\u001b[0m\u001b[0;34m'wb'\u001b[0m\u001b[0;34m)\u001b[0m\u001b[0;34m)\u001b[0m\u001b[0;34m\u001b[0m\u001b[0;34m\u001b[0m\u001b[0m\n\u001b[0m\u001b[1;32m      5\u001b[0m \u001b[0mmodel\u001b[0m\u001b[0;34m.\u001b[0m\u001b[0msave\u001b[0m\u001b[0;34m(\u001b[0m\u001b[0;34m'trained_recipe_model.h5'\u001b[0m\u001b[0;34m)\u001b[0m\u001b[0;34m\u001b[0m\u001b[0;34m\u001b[0m\u001b[0m\n",
      "\u001b[0;31mNameError\u001b[0m: name 'dump' is not defined"
     ]
    }
   ],
   "source": [
    "path = './checkpoints/recipe_model.h5'\n",
    "checkpoint = ModelCheckpoint(path, monitor='loss', verbose=1, save_best_only=True, mode='min')\n",
    "model.fit(X, y, batch_size=128, epochs=140, verbose=1, callbacks=[checkpoint])\n",
    "pickle.dump(tokenizer, open('tokenizer_model.pkl','wb'))\n",
    "model.save('trained_recipe_model.h5')"
   ]
  },
  {
   "cell_type": "code",
   "execution_count": 69,
   "metadata": {},
   "outputs": [
    {
     "name": "stderr",
     "output_type": "stream",
     "text": [
      "/Users/pratimasatish/anaconda3/lib/python3.7/site-packages/tensorflow_core/python/framework/indexed_slices.py:433: UserWarning: Converting sparse IndexedSlices to a dense Tensor of unknown shape. This may consume a large amount of memory.\n",
      "  \"Converting sparse IndexedSlices to a dense Tensor of unknown shape. \"\n"
     ]
    },
    {
     "name": "stdout",
     "output_type": "stream",
     "text": [
      "Epoch 1/40\n",
      "196659/196659 [==============================] - 182s 928us/step - loss: 3.1422 - accuracy: 0.3950\n",
      "\n",
      "Epoch 00001: loss improved from 3.14888 to 3.14224, saving model to ./checkpoints/recipe_model.h5\n",
      "Epoch 2/40\n",
      "196659/196659 [==============================] - 192s 979us/step - loss: 3.1336 - accuracy: 0.3970\n",
      "\n",
      "Epoch 00002: loss improved from 3.14224 to 3.13361, saving model to ./checkpoints/recipe_model.h5\n",
      "Epoch 3/40\n",
      "196659/196659 [==============================] - 175s 892us/step - loss: 3.1229 - accuracy: 0.3979\n",
      "\n",
      "Epoch 00003: loss improved from 3.13361 to 3.12287, saving model to ./checkpoints/recipe_model.h5\n",
      "Epoch 4/40\n",
      "196659/196659 [==============================] - 183s 930us/step - loss: 3.1239 - accuracy: 0.3981\n",
      "\n",
      "Epoch 00004: loss did not improve from 3.12287\n",
      "Epoch 5/40\n",
      "196659/196659 [==============================] - 204s 1ms/step - loss: 3.1105 - accuracy: 0.4005\n",
      "\n",
      "Epoch 00005: loss improved from 3.12287 to 3.11052, saving model to ./checkpoints/recipe_model.h5\n",
      "Epoch 6/40\n",
      "196659/196659 [==============================] - 177s 899us/step - loss: 3.1061 - accuracy: 0.4001\n",
      "\n",
      "Epoch 00006: loss improved from 3.11052 to 3.10611, saving model to ./checkpoints/recipe_model.h5\n",
      "Epoch 7/40\n",
      "196659/196659 [==============================] - 181s 921us/step - loss: 3.1006 - accuracy: 0.4006\n",
      "\n",
      "Epoch 00007: loss improved from 3.10611 to 3.10060, saving model to ./checkpoints/recipe_model.h5\n",
      "Epoch 8/40\n",
      "196659/196659 [==============================] - 186s 944us/step - loss: 3.0935 - accuracy: 0.4017\n",
      "\n",
      "Epoch 00008: loss improved from 3.10060 to 3.09354, saving model to ./checkpoints/recipe_model.h5\n",
      "Epoch 9/40\n",
      "196659/196659 [==============================] - 176s 894us/step - loss: 3.0847 - accuracy: 0.4033\n",
      "\n",
      "Epoch 00009: loss improved from 3.09354 to 3.08469, saving model to ./checkpoints/recipe_model.h5\n",
      "Epoch 10/40\n",
      "196659/196659 [==============================] - 174s 883us/step - loss: 3.0788 - accuracy: 0.4053\n",
      "\n",
      "Epoch 00010: loss improved from 3.08469 to 3.07880, saving model to ./checkpoints/recipe_model.h5\n",
      "Epoch 11/40\n",
      "196659/196659 [==============================] - 176s 893us/step - loss: 3.0764 - accuracy: 0.4042\n",
      "\n",
      "Epoch 00011: loss improved from 3.07880 to 3.07640, saving model to ./checkpoints/recipe_model.h5\n",
      "Epoch 12/40\n",
      "196659/196659 [==============================] - 174s 884us/step - loss: 3.0693 - accuracy: 0.4061\n",
      "\n",
      "Epoch 00012: loss improved from 3.07640 to 3.06933, saving model to ./checkpoints/recipe_model.h5\n",
      "Epoch 13/40\n",
      "196659/196659 [==============================] - 176s 895us/step - loss: 3.0640 - accuracy: 0.4074\n",
      "\n",
      "Epoch 00013: loss improved from 3.06933 to 3.06397, saving model to ./checkpoints/recipe_model.h5\n",
      "Epoch 14/40\n",
      "196659/196659 [==============================] - 176s 893us/step - loss: 3.0547 - accuracy: 0.4079\n",
      "\n",
      "Epoch 00014: loss improved from 3.06397 to 3.05467, saving model to ./checkpoints/recipe_model.h5\n",
      "Epoch 15/40\n",
      "196659/196659 [==============================] - 176s 894us/step - loss: 3.0514 - accuracy: 0.4075\n",
      "\n",
      "Epoch 00015: loss improved from 3.05467 to 3.05145, saving model to ./checkpoints/recipe_model.h5\n",
      "Epoch 16/40\n",
      "196659/196659 [==============================] - 177s 900us/step - loss: 3.0440 - accuracy: 0.4083\n",
      "\n",
      "Epoch 00016: loss improved from 3.05145 to 3.04402, saving model to ./checkpoints/recipe_model.h5\n",
      "Epoch 17/40\n",
      "196659/196659 [==============================] - 176s 893us/step - loss: 3.0406 - accuracy: 0.4096\n",
      "\n",
      "Epoch 00017: loss improved from 3.04402 to 3.04059, saving model to ./checkpoints/recipe_model.h5\n",
      "Epoch 18/40\n",
      "196659/196659 [==============================] - 176s 893us/step - loss: 3.0308 - accuracy: 0.4106\n",
      "\n",
      "Epoch 00018: loss improved from 3.04059 to 3.03076, saving model to ./checkpoints/recipe_model.h5\n",
      "Epoch 19/40\n",
      "196659/196659 [==============================] - 175s 892us/step - loss: 3.0258 - accuracy: 0.4110\n",
      "\n",
      "Epoch 00019: loss improved from 3.03076 to 3.02580, saving model to ./checkpoints/recipe_model.h5\n",
      "Epoch 20/40\n",
      "196659/196659 [==============================] - 176s 893us/step - loss: 3.0200 - accuracy: 0.4118\n",
      "\n",
      "Epoch 00020: loss improved from 3.02580 to 3.01999, saving model to ./checkpoints/recipe_model.h5\n",
      "Epoch 21/40\n",
      "196659/196659 [==============================] - 176s 895us/step - loss: 3.0156 - accuracy: 0.4126\n",
      "\n",
      "Epoch 00021: loss improved from 3.01999 to 3.01564, saving model to ./checkpoints/recipe_model.h5\n",
      "Epoch 22/40\n",
      "196659/196659 [==============================] - 175s 891us/step - loss: 3.0107 - accuracy: 0.4145\n",
      "\n",
      "Epoch 00022: loss improved from 3.01564 to 3.01071, saving model to ./checkpoints/recipe_model.h5\n",
      "Epoch 23/40\n",
      "196659/196659 [==============================] - 176s 893us/step - loss: 3.0075 - accuracy: 0.4134\n",
      "\n",
      "Epoch 00023: loss improved from 3.01071 to 3.00753, saving model to ./checkpoints/recipe_model.h5\n",
      "Epoch 24/40\n",
      "196659/196659 [==============================] - 175s 889us/step - loss: 3.0034 - accuracy: 0.4147\n",
      "\n",
      "Epoch 00024: loss improved from 3.00753 to 3.00343, saving model to ./checkpoints/recipe_model.h5\n",
      "Epoch 25/40\n",
      "196659/196659 [==============================] - 175s 892us/step - loss: 2.9983 - accuracy: 0.4167\n",
      "\n",
      "Epoch 00025: loss improved from 3.00343 to 2.99831, saving model to ./checkpoints/recipe_model.h5\n",
      "Epoch 26/40\n",
      "196659/196659 [==============================] - 174s 887us/step - loss: 2.9890 - accuracy: 0.4167\n",
      "\n",
      "Epoch 00026: loss improved from 2.99831 to 2.98902, saving model to ./checkpoints/recipe_model.h5\n",
      "Epoch 27/40\n",
      "196659/196659 [==============================] - 174s 887us/step - loss: 2.9871 - accuracy: 0.4168\n",
      "\n",
      "Epoch 00027: loss improved from 2.98902 to 2.98708, saving model to ./checkpoints/recipe_model.h5\n",
      "Epoch 28/40\n",
      "196659/196659 [==============================] - 175s 891us/step - loss: 2.9802 - accuracy: 0.4185\n",
      "\n",
      "Epoch 00028: loss improved from 2.98708 to 2.98020, saving model to ./checkpoints/recipe_model.h5\n",
      "Epoch 29/40\n",
      "196659/196659 [==============================] - 175s 892us/step - loss: 2.9731 - accuracy: 0.4187\n",
      "\n",
      "Epoch 00029: loss improved from 2.98020 to 2.97311, saving model to ./checkpoints/recipe_model.h5\n",
      "Epoch 30/40\n",
      "196659/196659 [==============================] - 175s 891us/step - loss: 2.9654 - accuracy: 0.4200\n",
      "\n",
      "Epoch 00030: loss improved from 2.97311 to 2.96539, saving model to ./checkpoints/recipe_model.h5\n",
      "Epoch 31/40\n",
      "196659/196659 [==============================] - 174s 887us/step - loss: 2.9660 - accuracy: 0.4206\n",
      "\n",
      "Epoch 00031: loss did not improve from 2.96539\n",
      "Epoch 32/40\n",
      "196659/196659 [==============================] - 175s 890us/step - loss: 2.9579 - accuracy: 0.4211\n",
      "\n",
      "Epoch 00032: loss improved from 2.96539 to 2.95787, saving model to ./checkpoints/recipe_model.h5\n",
      "Epoch 33/40\n",
      "196659/196659 [==============================] - 176s 893us/step - loss: 2.9506 - accuracy: 0.4221\n",
      "\n",
      "Epoch 00033: loss improved from 2.95787 to 2.95055, saving model to ./checkpoints/recipe_model.h5\n",
      "Epoch 34/40\n",
      "196659/196659 [==============================] - 175s 890us/step - loss: 2.9513 - accuracy: 0.4213\n",
      "\n",
      "Epoch 00034: loss did not improve from 2.95055\n",
      "Epoch 35/40\n",
      "196659/196659 [==============================] - 177s 898us/step - loss: 2.9440 - accuracy: 0.4227\n",
      "\n",
      "Epoch 00035: loss improved from 2.95055 to 2.94400, saving model to ./checkpoints/recipe_model.h5\n",
      "Epoch 36/40\n",
      "196659/196659 [==============================] - 175s 892us/step - loss: 2.9374 - accuracy: 0.4236\n",
      "\n",
      "Epoch 00036: loss improved from 2.94400 to 2.93741, saving model to ./checkpoints/recipe_model.h5\n",
      "Epoch 37/40\n",
      "196659/196659 [==============================] - 179s 908us/step - loss: 2.9400 - accuracy: 0.4247\n",
      "\n",
      "Epoch 00037: loss did not improve from 2.93741\n",
      "Epoch 38/40\n",
      "196659/196659 [==============================] - 175s 890us/step - loss: 2.9329 - accuracy: 0.4248\n",
      "\n",
      "Epoch 00038: loss improved from 2.93741 to 2.93294, saving model to ./checkpoints/recipe_model.h5\n",
      "Epoch 39/40\n",
      "196659/196659 [==============================] - 176s 894us/step - loss: 2.9224 - accuracy: 0.4273\n",
      "\n",
      "Epoch 00039: loss improved from 2.93294 to 2.92236, saving model to ./checkpoints/recipe_model.h5\n",
      "Epoch 40/40\n",
      "196659/196659 [==============================] - 177s 899us/step - loss: 2.9227 - accuracy: 0.4255\n",
      "\n",
      "Epoch 00040: loss did not improve from 2.92236\n"
     ]
    },
    {
     "data": {
      "text/plain": [
       "<keras.callbacks.callbacks.History at 0x7f8e8efe7890>"
      ]
     },
     "execution_count": 69,
     "metadata": {},
     "output_type": "execute_result"
    }
   ],
   "source": [
    "new_model = load_model('./checkpoints/epoch100_recipe_model.h5')\n",
    "new_model.fit(X, y, batch_size=128, epochs=40, verbose=1, callbacks=[checkpoint])\n",
    "new_model.save('epoch140_trained_recipe_model.h5')"
   ]
  },
  {
   "cell_type": "code",
   "execution_count": 186,
   "metadata": {},
   "outputs": [
    {
     "data": {
      "text/plain": [
       "'i made bread cloves 1 g water 384 g water 735 g high extraction spelt flour 200 g red fife berries 50 g freshly ground flax seeds 725 g water 22 g pink himalayan salt 30 g yogurt 20 g salt 250 g levain procedure recipe extra wholegrain flour feeding autolyze 88 g'"
      ]
     },
     "execution_count": 186,
     "metadata": {},
     "output_type": "execute_result"
    }
   ],
   "source": [
    "generate_sentence(model, tokenizer, seq_length, 'i made bread', 50)"
   ]
  },
  {
   "cell_type": "code",
   "execution_count": null,
   "metadata": {},
   "outputs": [],
   "source": [
    "# group recipes by yeast, levain and others"
   ]
  },
  {
   "cell_type": "code",
   "execution_count": null,
   "metadata": {},
   "outputs": [],
   "source": []
  },
  {
   "cell_type": "code",
   "execution_count": null,
   "metadata": {},
   "outputs": [],
   "source": []
  },
  {
   "cell_type": "code",
   "execution_count": null,
   "metadata": {},
   "outputs": [],
   "source": []
  }
 ],
 "metadata": {
  "kernelspec": {
   "display_name": "Python 3",
   "language": "python",
   "name": "python3"
  },
  "language_info": {
   "codemirror_mode": {
    "name": "ipython",
    "version": 3
   },
   "file_extension": ".py",
   "mimetype": "text/x-python",
   "name": "python",
   "nbconvert_exporter": "python",
   "pygments_lexer": "ipython3",
   "version": "3.7.4"
  }
 },
 "nbformat": 4,
 "nbformat_minor": 2
}
